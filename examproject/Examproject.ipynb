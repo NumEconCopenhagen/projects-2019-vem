{
 "cells": [
  {
   "cell_type": "markdown",
   "metadata": {},
   "source": [
    "# 0. Importing all necessary packages"
   ]
  },
  {
   "cell_type": "code",
   "execution_count": 1,
   "metadata": {},
   "outputs": [
    {
     "name": "stdout",
     "output_type": "stream",
     "text": [
      "Import successful.\n"
     ]
    }
   ],
   "source": [
    "import numpy as np\n",
    "import sympy as sm\n",
    "import scipy as sp\n",
    "import time\n",
    "\n",
    "from scipy             import interpolate, optimize\n",
    "from sympy.interactive import printing\n",
    "from matplotlib        import cm\n",
    "from mpl_toolkits      import mplot3d\n",
    "printing.init_printing(use_latex=True)\n",
    "\n",
    "%matplotlib inline\n",
    "import matplotlib.pyplot as plt\n",
    "import ipywidgets        as widgets\n",
    "\n",
    "print('Import successful.')"
   ]
  },
  {
   "cell_type": "markdown",
   "metadata": {},
   "source": [
    "# 1. Human capital accumulation"
   ]
  },
  {
   "cell_type": "markdown",
   "metadata": {},
   "source": [
    "Consider a worker living in **two periods**, $t \\in \\{1,2\\}$. \n",
    "\n",
    "In each period she decides whether to **work ($l_t = 1$) or not ($l_t = 0$)**. \n",
    "\n",
    "She can *not* borrow or save and thus **consumes all of her income** in each period. "
   ]
  },
  {
   "cell_type": "markdown",
   "metadata": {},
   "source": [
    "If she **works** her **consumption** becomes:\n",
    "\n",
    "$$c_t = w h_t l_t\\,\\,\\text{if}\\,\\,l_t=1$$\n",
    "\n",
    "where $w$ is **the wage rate** and $h_t$ is her **human capital**. \n",
    "\n",
    "If she does **not work** her consumption becomes:\n",
    "\n",
    "$$c_t = b\\,\\,\\text{if}\\,\\,l_t=0$$\n",
    "\n",
    "where $b$ is the **unemployment benefits**."
   ]
  },
  {
   "cell_type": "markdown",
   "metadata": {},
   "source": [
    "Her **utility of consumption** is: \n",
    "\n",
    "$$ \\frac{c_t^{1-\\rho}}{1-\\rho} $$\n",
    "\n",
    "Her **disutility of working** is:\n",
    "\n",
    "$$ \\gamma l_t $$"
   ]
  },
  {
   "cell_type": "markdown",
   "metadata": {},
   "source": [
    "From period 1 to period 2, she **accumulates human capital** according to:\n",
    "\n",
    "$$ h_2 = h_1 + l_1 + \n",
    "\\begin{cases}\n",
    "0 & \\text{with prob. }0.5 \\\\\n",
    "\\Delta & \\text{with prob. }0.5 \n",
    "\\end{cases} \\\\\n",
    "$$\n",
    "\n",
    "where $\\Delta$ is a **stochastic experience gain**."
   ]
  },
  {
   "cell_type": "markdown",
   "metadata": {},
   "source": [
    "In the **second period** the worker thus solves:\n",
    "\n",
    "$$\n",
    "\\begin{eqnarray*}\n",
    "v_{2}(h_{2}) & = &\\max_{l_{2}} \\frac{c_2^{1-\\rho}}{1-\\rho} - \\gamma l_2\n",
    "\\\\ & \\text{s.t.} & \\\\\n",
    "c_{2}& = & \\begin{cases}\n",
    "w h_2 & \n",
    "\\text{if }l_2 = 1  \\\\\n",
    "b & \\text{if }l_2 = 0 \n",
    "\\end{cases} \\\\\n",
    "l_{2}& \\in &\\{0,1\\}\n",
    "\\end{eqnarray*}\n",
    "$$"
   ]
  },
  {
   "cell_type": "markdown",
   "metadata": {},
   "source": [
    "In the **first period** the worker thus solves:\n",
    "\n",
    "$$\n",
    "\\begin{eqnarray*}\n",
    "v_{1}(h_{1}) &=& \\max_{l_{1}} \\frac{c_1^{1-\\rho}}{1-\\rho} - \\gamma l_1 + \\beta\\mathbb{E}_{1}\\left[v_2(h_2)\\right]\n",
    "\\\\ & \\text{s.t.} & \\\\\n",
    "c_{1}& = & \\begin{cases}\n",
    "w h_1 & \n",
    "\\text{if }l_1 = 1  \\\\\n",
    "b & \\text{if }l_1 = 0 \n",
    "\\end{cases} \\\\\n",
    "h_2 &=& h_1 + l_1 + \\begin{cases}\n",
    "0 & \\text{with prob. }0.5\\\\\n",
    "\\Delta & \\text{with prob. }0.5 \n",
    "\\end{cases}\\\\\n",
    "l_{1} &\\in& \\{0,1\\}\\\\\n",
    "\\end{eqnarray*}\n",
    "$$\n",
    "\n",
    "where $\\beta$ is the **discount factor** and $\\mathbb{E}_{1}\\left[v_2(h_2)\\right]$ is the **expected value of living in period two**."
   ]
  },
  {
   "cell_type": "markdown",
   "metadata": {},
   "source": [
    "The **parameters** of the model are:"
   ]
  },
  {
   "cell_type": "code",
   "execution_count": 2,
   "metadata": {},
   "outputs": [
    {
     "name": "stdout",
     "output_type": "stream",
     "text": [
      "Parameters successfully set.\n"
     ]
    }
   ],
   "source": [
    "rho   = 2\n",
    "beta  = 0.96\n",
    "gamma = 0.1\n",
    "w     = 2\n",
    "b     = 1\n",
    "Delta = 0.1\n",
    "\n",
    "print('Parameters successfully set.')"
   ]
  },
  {
   "cell_type": "markdown",
   "metadata": {},
   "source": [
    "The **relevant levels of human capital** are:"
   ]
  },
  {
   "cell_type": "code",
   "execution_count": 3,
   "metadata": {},
   "outputs": [
    {
     "name": "stdout",
     "output_type": "stream",
     "text": [
      "Relevant levels of human capital sucessfully set.\n"
     ]
    }
   ],
   "source": [
    "h_vec = np.linspace(0.1,1.5,10000) \n",
    "\n",
    "print('Relevant levels of human capital sucessfully set.')"
   ]
  },
  {
   "cell_type": "markdown",
   "metadata": {},
   "source": [
    "**Question 1:** Solve the model in period 2 and illustrate the solution (including labor supply as a function of human capital). "
   ]
  },
  {
   "cell_type": "markdown",
   "metadata": {},
   "source": [
    "Firstly, we define the labour function, **l**."
   ]
  },
  {
   "cell_type": "code",
   "execution_count": 4,
   "metadata": {},
   "outputs": [],
   "source": [
    "l = [0, 1] # Defines labour, l, as being either 0 (no work) or 1 (work)"
   ]
  },
  {
   "cell_type": "markdown",
   "metadata": {},
   "source": [
    "Then, we define the value function of period 2, **vf2**, with the help of functions for consumption, utility and disutility - named **cons**, **util** and **disutil**, respectively. These three are created independent of period, **t**, so they can be used later on."
   ]
  },
  {
   "cell_type": "code",
   "execution_count": 5,
   "metadata": {},
   "outputs": [
    {
     "name": "stdout",
     "output_type": "stream",
     "text": [
      "Defining successful.\n"
     ]
    }
   ],
   "source": [
    "def cons(w,b,h,l): # Defines a function for consumption, cons\n",
    "    if l == 0:     # If she does not work,\n",
    "        c = b      # her consumption will equal her unemployment benefits, b\n",
    "    elif l == 1:   # If she does work,\n",
    "        c = w*h    # her consumption will equal her wage times her human capital\n",
    "    return c\n",
    "\n",
    "def util(w,b,h,l,rho):                    # Utility from consumption, util\n",
    "    return (cons(w,b,h,l)**(1-rho))/(1-rho)\n",
    "\n",
    "def disutil(gamma,l):                     # Disutility from work, disutil\n",
    "    return gamma*l\n",
    "\n",
    "def vf2(w,b,h2,l2,rho,gamma):             # Value function of period 2, vf2\n",
    "    return util(w,b,h2,l2,rho) - disutil(gamma,l2)\n",
    "\n",
    "print('Defining successful.')"
   ]
  },
  {
   "cell_type": "markdown",
   "metadata": {},
   "source": [
    "Next, we create a function, **sol_2**, as to solve the worker's problem in period 2.\n",
    "\n",
    "**NOTE:** Here, we extend the *num* argument of *linspace* from 100 to 10.000, so we obtain a more precise solution."
   ]
  },
  {
   "cell_type": "code",
   "execution_count": 6,
   "metadata": {},
   "outputs": [
    {
     "name": "stdout",
     "output_type": "stream",
     "text": [
      "Solved successfully.\n"
     ]
    }
   ],
   "source": [
    "def sol_2(w,b,rho,gamma):\n",
    "    \n",
    "    # Creates empty arrays for each for the variabels\n",
    "    h2_vec  = np.linspace(0.1,1.5,10000)\n",
    "    l2_vec  = np.empty(10000)\n",
    "    c2_vec  = np.empty(10000)\n",
    "    vf2_vec = np.empty(10000)\n",
    "    \n",
    "    # Solves for each relevant level of human capital, h2_vec\n",
    "    for i,h2 in enumerate(h2_vec):\n",
    "        \n",
    "        vf2_0 = vf2(w,b,h2,l[0],rho,gamma)  # vf2 if no work\n",
    "        vf2_1 = vf2(w,b,h2,l[1],rho,gamma)  # vf2 if working\n",
    "        vf2_vec[i] = max(vf2_0,vf2_1)       # Selectes the maximum of the above\n",
    "        l2_vec[i]  = vf2_1 > vf2_0          # Selectes the relevant labour values\n",
    "        c2_vec[i]  = cons(w,b,h2,l2_vec[i]) # Selectes the relavent consumption values\n",
    "        \n",
    "    return h2_vec, vf2_vec, l2_vec, c2_vec\n",
    "\n",
    "# Solves for the values of the vectors according to the definitions above\n",
    "h2_vec,vf2_vec,l2_vec,c2_vec = sol_2(w,b,rho,gamma)\n",
    "\n",
    "print('Solved successfully.')"
   ]
  },
  {
   "cell_type": "markdown",
   "metadata": {},
   "source": [
    "We now plot the solution of the worker's problem, i.e. we plot labour, consumption and utility - all as a function of $h_{2}$. We also print the cut-off value of $h_{2}$."
   ]
  },
  {
   "cell_type": "code",
   "execution_count": 7,
   "metadata": {},
   "outputs": [
    {
     "name": "stdout",
     "output_type": "stream",
     "text": [
      "She will work whenever h₂ ≥ 0.5556.\n",
      "\n",
      "Revelant graphs of period 2 are shown below.\n"
     ]
    },
    {
     "data": {
      "image/png": "[encoded data removed]",
      "text/plain": [
       "<Figure size 1296x360 with 3 Axes>"
      ]
     },
     "metadata": {
      "needs_background": "light"
     },
     "output_type": "display_data"
    }
   ],
   "source": [
    "fig = plt.figure(figsize=(18,5))  # Initializes plot\n",
    "\n",
    "ax1 = fig.add_subplot(1,3,1)      # Initializes first subplot\n",
    "ax1.plot(h2_vec,l2_vec, 'b-')     # Plots the relevant series\n",
    "ax1.set_xlabel('\\n$h_2$', size=15)  # Labels x-axis and sets type size\n",
    "ax1.set_ylabel('$l_2$', size=15)  # Labels y-axis and sets type size\n",
    "ax1.grid()                        # Adds grids\n",
    "ax1.set_title('Labour as a function of 'u'h\\u2082\\n', size=15)      # Sets title and type size\n",
    "\n",
    "ax2 = fig.add_subplot(1,3,2)      # Initializes second subplot\n",
    "ax2.plot(h2_vec,c2_vec, 'b-')     # Plots the relevant series\n",
    "ax2.set_xlabel('\\n$h_2$', size=15)  # Labels x-axis and sets type size\n",
    "ax2.set_ylabel('$c_2$', size=15)  # Labels y-axis and sets type size\n",
    "ax2.grid()                        # Adds grids\n",
    "ax2.set_title('Consumption as a function of 'u'h\\u2082\\n', size=15) # Sets title and type size\n",
    "\n",
    "ax3 = fig.add_subplot(1,3,3)      # Initializes third subplot\n",
    "ax3.plot(h2_vec,vf2_vec, 'b-')    # Plots the relevant series\n",
    "ax3.set_xlabel('\\n$h_2$', size=15)  # Labels x-axis and sets type size\n",
    "ax3.set_ylabel('$v_2$', size=15)  # Labels y-axis and sets type size\n",
    "ax3.grid()                        # Adds grids\n",
    "ax3.set_title('Utility as a function of 'u'h\\u2082\\n', size=15)     # Sets title and type size\n",
    "\n",
    "cutoff1 = np.where(l2_vec == 1)[0][0]        # Extracts cut-off value\n",
    "\n",
    "print('She will work whenever 'u'h\\u2082 ≥ '\n",
    "      + str(round(h2_vec[cutoff1],4)) +'.')  # Prints cut-off value\n",
    "print('\\nRevelant graphs of period 2 are shown below.')"
   ]
  },
  {
   "cell_type": "markdown",
   "metadata": {},
   "source": [
    "Therefore, the worker chooses to work in period 2, if her level of human capital is greater than or equal to $0.5556$. This holds with equality under the assumption that she chooses to work, whenever she is indifferent between working and not working, i.e. $h_{2}=0.5556$. From this cut-off value and onwards, we also see that her consumption as well as her utility is stricly increasing."
   ]
  },
  {
   "cell_type": "markdown",
   "metadata": {},
   "source": [
    "**Question 2:** Solve the model in period 1 and illustrate the solution (including labor supply as a function of human capital). "
   ]
  },
  {
   "cell_type": "markdown",
   "metadata": {},
   "source": [
    "Firstly, we create an interpolation of the value function of period 2. We will use this to take the stochastic experience gain into account, when we then calculate the value function of period 1."
   ]
  },
  {
   "cell_type": "code",
   "execution_count": 8,
   "metadata": {},
   "outputs": [],
   "source": [
    "vf2_interp = interpolate.RegularGridInterpolator(\n",
    "    [h2_vec], vf2_vec, bounds_error=False,fill_value=None) # Interpolates"
   ]
  },
  {
   "cell_type": "markdown",
   "metadata": {},
   "source": [
    "Then, we define the value function of period 1, **vf1**, with the help of the previous functions for consumption, utility and disutility. This time, we incorporate the potential of a stochastic experience gain."
   ]
  },
  {
   "cell_type": "code",
   "execution_count": 9,
   "metadata": {},
   "outputs": [
    {
     "name": "stdout",
     "output_type": "stream",
     "text": [
      "Defining successful.\n"
     ]
    }
   ],
   "source": [
    "def vf1(w,b,l1,h1,rho,gamma,beta,Delta,vf2_interp):\n",
    "    \n",
    "    # Without stochastic gain\n",
    "    h2_low = h1 + l1\n",
    "    vf2_low = vf2_interp([h2_low])[0]\n",
    "    \n",
    "    # With stochastic gain\n",
    "    h2_high = h1 + l1 + Delta\n",
    "    vf2_high = vf2_interp([h2_high])[0]\n",
    "    \n",
    "    # Takes expectations of vf2 in period 1\n",
    "    vf2 = (0.5 * vf2_low) + (0.5 * vf2_high)\n",
    "    \n",
    "    # Calculates value function of period 1, vf1\n",
    "    return util(w,b,h1,l1,rho) - disutil(gamma,l1) + (beta*vf2)\n",
    "\n",
    "print('Defining successful.')"
   ]
  },
  {
   "cell_type": "markdown",
   "metadata": {},
   "source": [
    "Next, we create a function, **sol_1**, as to solve the worker's problem in period 1. Again, we extend the *num* argument of *linspace* from 100 to 10.000."
   ]
  },
  {
   "cell_type": "code",
   "execution_count": 10,
   "metadata": {},
   "outputs": [
    {
     "name": "stdout",
     "output_type": "stream",
     "text": [
      "Solved successfully.\n"
     ]
    }
   ],
   "source": [
    "def sol_1(w,b,rho,gamma,Delta,beta,vf2_interp):\n",
    "\n",
    "    # Creates empty arrays for each for the variabels\n",
    "    h1_vec  = np.linspace(0.1,1.5,10000)\n",
    "    l1_vec  = np.empty(10000)\n",
    "    c1_vec  = np.empty(10000)\n",
    "    vf1_vec = np.empty(10000)\n",
    "    \n",
    "    # Solves for each relevant level of human capital, h1_vec\n",
    "    for i,h1 in enumerate(h1_vec):\n",
    "        \n",
    "        vf1_0 = vf1(w,b,l[0],h1,rho,gamma,beta,Delta,vf2_interp) # vf1 if no work\n",
    "        vf1_1 = vf1(w,b,l[1],h1,rho,gamma,beta,Delta,vf2_interp) # vf1 if work\n",
    "        vf1_vec[i] = max(vf1_0,vf1_1)       # Selectes the maximum of the above\n",
    "        l1_vec[i]  = vf1_1 > vf1_0          # Selectes the relevant labour values\n",
    "        c1_vec[i]  = cons(w,b,h1,l1_vec[i]) # Selectes the relavent consumption values\n",
    "           \n",
    "    return h1_vec, vf1_vec, l1_vec, c1_vec\n",
    "\n",
    "# Solves for the values of the vectors according to the definitions above\n",
    "h1_vec, vf1_vec, l1_vec, c1_vec = sol_1(w,b,rho,gamma,Delta,beta,vf2_interp)\n",
    "\n",
    "print('Solved successfully.')"
   ]
  },
  {
   "cell_type": "markdown",
   "metadata": {},
   "source": [
    "We now plot the solution of the worker's problem, i.e. we plot labour, consumption and utility - all as a function of $h_{1}$. We also print the cut-off value of $h_{1}$."
   ]
  },
  {
   "cell_type": "code",
   "execution_count": 11,
   "metadata": {},
   "outputs": [
    {
     "name": "stdout",
     "output_type": "stream",
     "text": [
      "She will work whenever h₁ ≥ 0.3519.\n",
      "\n",
      "Revelant graphs of period 1 are shown below.\n"
     ]
    },
    {
     "data": {
      "image/png": "[encoded data removed]",
      "text/plain": [
       "<Figure size 1296x360 with 3 Axes>"
      ]
     },
     "metadata": {
      "needs_background": "light"
     },
     "output_type": "display_data"
    }
   ],
   "source": [
    "fig = plt.figure(figsize=(18,5))  # Initializes plot\n",
    "\n",
    "ax1 = fig.add_subplot(1,3,1)      # Initializes first subplot\n",
    "ax1.plot(h1_vec, l1_vec, 'b-')    # Plots the relevant series\n",
    "ax1.set_xlabel('\\n$h_1$', size=15)  # Labels x-axis and sets type size\n",
    "ax1.set_ylabel('$l_1$', size=15)  # Labels y-axis and sets type size\n",
    "ax1.grid()                        # Adds grids\n",
    "ax1.set_title('Labour as a function of 'u'h\\u2081\\n', \n",
    "              size=15)            # Sets title and type size\n",
    "\n",
    "ax2 = fig.add_subplot(1,3,2)      # Initializes second subplot\n",
    "ax2.plot(h1_vec, c1_vec, 'b-')    # Plots the relevant series\n",
    "ax2.set_xlabel('\\n$h_1$', size=15)  # Labels x-axis and sets type size\n",
    "ax2.set_ylabel('$c_1$', size=15)  # Labels y-axis and sets type size\n",
    "ax2.grid()                        # Adds grids\n",
    "ax2.set_title('Consumption as a function of 'u'h\\u2081\\n', \n",
    "              size=15)            # Sets title and type size\n",
    "\n",
    "ax3 = fig.add_subplot(1,3,3)      # Initializes third subplot\n",
    "ax3.plot(h1_vec, vf1_vec, 'b-')   # Plots the relevant series\n",
    "ax3.set_xlabel('\\n$h_1$', size=15)  # Labels x-axis and sets type size\n",
    "ax3.set_ylabel('$v_1$', size=15)  # Labels y-axis and sets type size\n",
    "ax3.grid()                        # Adds grids\n",
    "ax3.set_title('Utility as a function of 'u'h\\u2081\\n',\n",
    "              size=15)            # Sets title and type size\n",
    "\n",
    "cutoff2 = np.where(l1_vec == 1)[0][0]        # Extracts cut-off value\n",
    "\n",
    "print('She will work whenever 'u'h\\u2081 ≥ ' \n",
    "      + str(round(h1_vec[cutoff2],4)) + '.') # Prints cut-off value\n",
    "print('\\nRevelant graphs of period 1 are shown below.')"
   ]
  },
  {
   "cell_type": "markdown",
   "metadata": {},
   "source": [
    "Therefore, the worker chooses to work in period 1, if her level of human capital is greater than or equal to $0.3519$. Again, we see that her consumption as well as her utility is stricly increasing from this cut-off value and onwards."
   ]
  },
  {
   "cell_type": "markdown",
   "metadata": {},
   "source": [
    "**Question 3:** Will the worker never work if her potential wage income is lower than the unemployment benefits she can get? Explain and illustrate why or why not. "
   ]
  },
  {
   "cell_type": "markdown",
   "metadata": {},
   "source": [
    "This can easily be answered by re-executing all of the code above, but with $b ≥ w$, i.e. benefits greater than or equal to work. For instance, if one changes $b$ to $2.1$, such that $b = 2.1 > 2 = w$, one will see that the worker will choose to work at certain (and relatively high) levels of human capital. This stems from the fact that the worker's level of consumption is multiplied by her level of human capital, which can be thought of as enchancing the utilization of resources and hence consumption. Since consumption is a vital part of the worker's value function, she will indeed work if her wage income is lower than the benefits - for certain levels of human capital."
   ]
  },
  {
   "cell_type": "markdown",
   "metadata": {},
   "source": [
    "# 2. AS-AD model"
   ]
  },
  {
   "cell_type": "markdown",
   "metadata": {},
   "source": [
    "Consider the following **AS-AD model**. The **goods market equilibrium** is given by\n",
    "\n",
    "$$ y_{t} = -\\alpha r_{t} + v_{t} $$\n",
    "\n",
    "where $y_{t}$ is the **output gap**, $r_{t}$ is the **ex ante real interest** and $v_{t}$ is a **demand disturbance**. "
   ]
  },
  {
   "cell_type": "markdown",
   "metadata": {},
   "source": [
    "The central bank's **Taylor rule** is\n",
    "\n",
    "$$ i_{t} = \\pi_{t+1}^{e} + h \\pi_{t} + b y_{t}$$\n",
    "\n",
    "where $i_{t}$ is the **nominal interest rate**, $\\pi_{t}$ is the **inflation gap**, and $\\pi_{t+1}^{e}$ is the **expected inflation gap**. "
   ]
  },
  {
   "cell_type": "markdown",
   "metadata": {},
   "source": [
    "The **ex ante real interest rate** is given by \n",
    "\n",
    "$$ r_{t} = i_{t} - \\pi_{t+1}^{e} $$"
   ]
  },
  {
   "cell_type": "markdown",
   "metadata": {},
   "source": [
    "Together, the above implies that the **AD-curve** is\n",
    "\n",
    "$$ \\pi_{t} = \\frac{1}{h\\alpha}\\left[v_{t} - (1+b\\alpha)y_{t}\\right]$$"
   ]
  },
  {
   "cell_type": "markdown",
   "metadata": {},
   "source": [
    "Further, assume that the **short-run supply curve (SRAS)** is given by\n",
    "\n",
    "$$ \\pi_{t} = \\pi_{t}^{e} + \\gamma y_{t} + s_{t}$$\n",
    "\n",
    "where $s_t$ is a **supply disturbance**."
   ]
  },
  {
   "cell_type": "markdown",
   "metadata": {},
   "source": [
    "**Inflation expectations are adaptive** and given by\n",
    "\n",
    "$$ \\pi_{t}^{e} = \\phi\\pi_{t-1}^{e} + (1-\\phi)\\pi_{t-1}$$"
   ]
  },
  {
   "cell_type": "markdown",
   "metadata": {},
   "source": [
    "Together, this implies that the **SRAS-curve** can also be written as\n",
    "\n",
    "$$ \\pi_{t} = \\pi_{t-1} + \\gamma y_{t} - \\phi\\gamma y_{t-1} + s_{t} - \\phi s_{t-1} $$"
   ]
  },
  {
   "cell_type": "markdown",
   "metadata": {},
   "source": [
    "The **parameters** of the model are:"
   ]
  },
  {
   "cell_type": "code",
   "execution_count": 12,
   "metadata": {},
   "outputs": [
    {
     "name": "stdout",
     "output_type": "stream",
     "text": [
      "Parameters successfully set.\n"
     ]
    }
   ],
   "source": [
    "par = {}\n",
    "\n",
    "par['alpha'] = 5.76\n",
    "par['h']     = 0.5\n",
    "par['b']     = 0.5\n",
    "par['phi']   = 0\n",
    "par['gamma'] = 0.075\n",
    "par['delta'] = 0.80\n",
    "par['omega'] = 0.15\n",
    "\n",
    "y_t    = sm.symbols('y_t')\n",
    "y_t1   = sm.symbols('y_t-1')\n",
    "v_t    = sm.symbols('v_t')\n",
    "s_t    = sm.symbols('s_t')\n",
    "s_t1   = sm.symbols('s_t-1')\n",
    "i_t    = sm.symbols('i_t')\n",
    "r_t    = sm.symbols('r_t')\n",
    "alpha  = sm.symbols('alpha')\n",
    "h      = sm.symbols('h')\n",
    "b      = sm.symbols('b')\n",
    "phi    = sm.symbols('phi')\n",
    "gamma  = sm.symbols('gamma')\n",
    "phi    = sm.symbols('phi')\n",
    "pi_t   = sm.symbols('pi_t')\n",
    "pi_t1  = sm.symbols('pi_t-1')\n",
    "pie_t  = sm.symbols('pi^e_t')\n",
    "pie_t1 = sm.symbols('pi^e_t-1')\n",
    "pie_1t = sm.symbols('pi^e_t+1')\n",
    "\n",
    "print('Parameters successfully set.')"
   ]
  },
  {
   "cell_type": "markdown",
   "metadata": {},
   "source": [
    "**Question 1:** Use the ``sympy`` module to solve for the equilibrium values of output, $y_t$, and inflation, $\\pi_t$, (where AD = SRAS) given the parameters ($\\alpha$, $h$, $b$, $\\alpha$, $\\gamma$) and $y_{t-1}$ , $\\pi_{t-1}$, $v_t$, $s_t$, and $s_{t-1}$."
   ]
  },
  {
   "cell_type": "markdown",
   "metadata": {},
   "source": [
    "Below, we define and display all of the given equations."
   ]
  },
  {
   "cell_type": "code",
   "execution_count": 13,
   "metadata": {},
   "outputs": [
    {
     "data": {
      "image/png": "[encoded data removed]",
      "text/latex": [
       "$$y_{t} = - \\alpha r_{t} + v_{t}$$"
      ],
      "text/plain": [
       "yₜ = -α⋅rₜ + vₜ"
      ]
     },
     "metadata": {},
     "output_type": "display_data"
    },
    {
     "data": {
      "image/png": "[encoded data removed]",
      "text/latex": [
       "$$i_{t} = b y_{t} + h \\pi_{t} + \\pi^{e}_{t+1}$$"
      ],
      "text/plain": [
       "iₜ = b⋅yₜ + h⋅πₜ + π_t+1__e"
      ]
     },
     "metadata": {},
     "output_type": "display_data"
    },
    {
     "data": {
      "image/png": "[encoded data removed]",
      "text/latex": [
       "$$r_{t} = i_{t} - \\pi^{e}_{t+1}$$"
      ],
      "text/plain": [
       "rₜ = iₜ - π_t+1__e"
      ]
     },
     "metadata": {},
     "output_type": "display_data"
    },
    {
     "data": {
      "image/png": "[encoded data removed]",
      "text/latex": [
       "$$\\pi_{t} = \\frac{v_{t} - y_{t} \\left(\\alpha b + 1\\right)}{\\alpha h}$$"
      ],
      "text/plain": [
       "     vₜ - yₜ⋅(α⋅b + 1)\n",
       "πₜ = ─────────────────\n",
       "            α⋅h       "
      ]
     },
     "metadata": {},
     "output_type": "display_data"
    },
    {
     "data": {
      "image/png": "[encoded data removed]",
      "text/latex": [
       "$$\\pi_{t} = \\gamma y_{t} + \\pi^{e}_{t} + s_{t}$$"
      ],
      "text/plain": [
       "πₜ = γ⋅yₜ + π_t__e + sₜ"
      ]
     },
     "metadata": {},
     "output_type": "display_data"
    },
    {
     "data": {
      "image/png": "[encoded data removed]",
      "text/latex": [
       "$$\\pi^{e}_{t} = \\phi \\pi^{e}_{t-1} + \\pi_{t-1} \\left(- \\phi + 1\\right)$$"
      ],
      "text/plain": [
       "π_t__e = φ⋅π_t-1__e + πₜ₋₁⋅(-φ + 1)"
      ]
     },
     "metadata": {},
     "output_type": "display_data"
    },
    {
     "data": {
      "image/png": "[encoded data removed]",
      "text/latex": [
       "$$\\pi_{t} = - \\gamma \\phi y_{t-1} + \\gamma y_{t} - \\phi s_{t-1} + \\pi_{t-1} + s_{t}$$"
      ],
      "text/plain": [
       "πₜ = -γ⋅φ⋅yₜ₋₁ + γ⋅yₜ - φ⋅sₜ₋₁ + πₜ₋₁ + sₜ"
      ]
     },
     "metadata": {},
     "output_type": "display_data"
    }
   ],
   "source": [
    "# Defines the given equations\n",
    "sym_eq1 = sm.Eq(y_t, -alpha*r_t + v_t)\n",
    "sym_eq2 = sm.Eq(i_t, pie_1t + h*pi_t + b*y_t)\n",
    "sym_eq3 = sm.Eq(r_t, i_t - pie_1t)\n",
    "sym_eq4 = sm.Eq(pi_t, 1/(h*alpha)*(v_t - (1 + b*alpha)*y_t))\n",
    "sym_eq5 = sm.Eq(pi_t, pie_t + gamma*y_t + s_t)\n",
    "sym_eq6 = sm.Eq(pie_t, phi*pie_t1 + (1-phi)*pi_t1)\n",
    "sym_eq7 = sm.Eq(pi_t, pi_t1 + gamma*y_t - phi*gamma*y_t1 + s_t - phi*s_t1)\n",
    "\n",
    "# Displays the equations nicely\n",
    "display(sym_eq1,sym_eq2,sym_eq3,sym_eq4,sym_eq5,sym_eq6,sym_eq7)\n",
    "\n",
    "# Note: The code below is used for 2.3.\n",
    "# Here, we solve for pi and y through eq. 4 and 7 above\n",
    "sol    = sm.solve([sym_eq4, sym_eq7], [y_t, pi_t])\n",
    "pi_sol = sol[pi_t]\n",
    "y_sol  = sol[y_t]\n",
    "\n",
    "# Lambdifies functions of pi and y\n",
    "pi_func = sm.lambdify((pi_t1, y_t1, v_t, s_t, s_t1, alpha, h, b, phi, gamma), pi_sol)\n",
    "y_func  = sm.lambdify((pi_t1, y_t1, v_t, s_t, s_t1, alpha, h, b, phi, gamma), y_sol)"
   ]
  },
  {
   "cell_type": "markdown",
   "metadata": {},
   "source": [
    "Now, we solve symbolically for AD and SRAS as functions of known parameters."
   ]
  },
  {
   "cell_type": "code",
   "execution_count": 14,
   "metadata": {
    "scrolled": true
   },
   "outputs": [
    {
     "data": {
      "image/png": "[encoded data removed]",
      "text/latex": [
       "$$\\left \\{ \\pi_{t} : \\frac{\\gamma v_{t} - \\left(\\alpha b + 1\\right) \\left(\\gamma \\phi y_{t-1} + \\phi s_{t-1} - \\pi_{t-1} - s_{t}\\right)}{\\alpha b + \\alpha \\gamma h + 1}, \\quad y_{t} : \\frac{\\alpha \\gamma h \\phi y_{t-1} + \\alpha h \\phi s_{t-1} - \\alpha h \\pi_{t-1} - \\alpha h s_{t} + v_{t}}{\\alpha b + \\alpha \\gamma h + 1}\\right \\}$$"
      ],
      "text/plain": [
       "⎧    γ⋅vₜ - (α⋅b + 1)⋅(γ⋅φ⋅yₜ₋₁ + φ⋅sₜ₋₁ - πₜ₋₁ - sₜ)      α⋅γ⋅h⋅φ⋅yₜ₋₁ + α⋅h⋅\n",
       "⎨πₜ: ────────────────────────────────────────────────, yₜ: ───────────────────\n",
       "⎩                    α⋅b + α⋅γ⋅h + 1                                        α⋅\n",
       "\n",
       "φ⋅sₜ₋₁ - α⋅h⋅πₜ₋₁ - α⋅h⋅sₜ + vₜ⎫\n",
       "───────────────────────────────⎬\n",
       "b + α⋅γ⋅h + 1                  ⎭"
      ]
     },
     "execution_count": 14,
     "metadata": {},
     "output_type": "execute_result"
    }
   ],
   "source": [
    "# Defines AD and SRAS\n",
    "sym_AD   = sm.Eq(pi_t, 1/(h*alpha)*(v_t - (1 + b*alpha)*y_t))\n",
    "sym_SRAS = sm.Eq(pi_t, pi_t1 + gamma*y_t - phi*gamma*y_t1 + s_t - phi*s_t1)\n",
    "\n",
    "# Solves\n",
    "sym_sol  = sm.solve([sym_AD, sym_SRAS], [y_t, pi_t])\n",
    "sym_sol"
   ]
  },
  {
   "cell_type": "markdown",
   "metadata": {},
   "source": [
    "Then, we do all of the above numerically. Here, we only display the solution for output, $y_t$, and inflation, $\\pi_t$, in equilibrium."
   ]
  },
  {
   "cell_type": "code",
   "execution_count": 15,
   "metadata": {},
   "outputs": [
    {
     "data": {
      "image/png": "[encoded data removed]",
      "text/latex": [
       "$$\\left \\{ \\pi_{t} : 0.947265625 \\pi_{t-1} + 0.947265625 s_{t} + 0.018310546875 v_{t}, \\quad y_{t} : - 0.703125 \\pi_{t-1} - 0.703125 s_{t} + 0.244140625 v_{t}\\right \\}$$"
      ],
      "text/plain": [
       "{πₜ: 0.947265625⋅πₜ₋₁ + 0.947265625⋅sₜ + 0.018310546875⋅vₜ, yₜ: -0.703125⋅πₜ₋₁\n",
       " - 0.703125⋅sₜ + 0.244140625⋅vₜ}"
      ]
     },
     "execution_count": 15,
     "metadata": {},
     "output_type": "execute_result"
    }
   ],
   "source": [
    "# Defines the given equations with parameter values\n",
    "num_eq1  = sm.Eq(y_t,   -par['alpha']*r_t + v_t)\n",
    "num_eq2  = sm.Eq(i_t,   pie_1t + par['h']*pi_t + par['b']*y_t)\n",
    "num_eq3  = sm.Eq(r_t,   i_t - pie_1t)\n",
    "num_eq4  = sm.Eq(pi_t,  1/(par['h']*par['alpha'])*\n",
    "             (v_t - (1 + par['b']*par['alpha'])*y_t))\n",
    "num_eq5  = sm.Eq(pi_t,  pie_t + par['gamma']*y_t + s_t)\n",
    "num_eq6  = sm.Eq(pie_t, phi*pie_t1 + (1-phi)*pi_t1)\n",
    "num_eq7  = sm.Eq(pi_t,  pi_t1 + par['gamma']*y_t - par['phi']\n",
    "             *par['gamma']*y_t1 + s_t - par['phi']*s_t1)\n",
    "\n",
    "# Defines AD and SRAS\n",
    "num_AD   = sm.Eq(pi_t,  1/(par['h']*par['alpha'])\n",
    "             *(v_t - (1 + par['b']*par['alpha'])*y_t))\n",
    "num_SRAS = sm.Eq(pi_t,  pi_t1 + par['gamma']*y_t - par['phi']\n",
    "             *par['gamma']*y_t1 + s_t - par['phi']*s_t1)\n",
    "\n",
    "# Solves\n",
    "num_sol  = sm.solve([num_AD, num_SRAS], [y_t, pi_t])\n",
    "num_sol"
   ]
  },
  {
   "cell_type": "markdown",
   "metadata": {},
   "source": [
    "**Question 2:** Find and illustrate the equilibrium when $y_{t-1} = \\pi_{t-1} = v_t = s_t = s_{t-1} = 0$. Illustrate how the equilibrium changes when instead $v_t = 0.1$."
   ]
  },
  {
   "cell_type": "markdown",
   "metadata": {},
   "source": [
    "We set $y_{t-1} = \\pi_{t-1} = v_t = s_t = s_{t-1} = 0$ and solve for the equilibrium."
   ]
  },
  {
   "cell_type": "code",
   "execution_count": 16,
   "metadata": {},
   "outputs": [
    {
     "name": "stdout",
     "output_type": "stream",
     "text": [
      "Successfully solved.\n"
     ]
    }
   ],
   "source": [
    "y_t1  = pi_t1 = v_t = s_t = s_t1 = 0 # Imposes condition\n",
    "\n",
    "AD1   = sm.Eq(pi_t,  1/(par['h']*par['alpha'])\n",
    "             *(v_t - (1 + par['b']*par['alpha'])*y_t))   # New AD\n",
    "SRAS1 = sm.Eq(pi_t,  pi_t1 + par['gamma']*y_t - par['phi']\n",
    "             *par['gamma']*y_t1 + s_t - par['phi']*s_t1) # New SRAS\n",
    "\n",
    "sol1  = sm.solve([AD1, SRAS1], [y_t, pi_t]) # Solves\n",
    "\n",
    "print('Successfully solved.')"
   ]
  },
  {
   "cell_type": "markdown",
   "metadata": {},
   "source": [
    "Now, we set $v_t = 0.1$ and solve."
   ]
  },
  {
   "cell_type": "code",
   "execution_count": 17,
   "metadata": {},
   "outputs": [
    {
     "name": "stdout",
     "output_type": "stream",
     "text": [
      "Successfully solved.\n"
     ]
    }
   ],
   "source": [
    "v_t_1 = 0.1 # Imposes new condition\n",
    "\n",
    "AD2   = sm.Eq(pi_t,  1/(par['h']*par['alpha'])\n",
    "             *(v_t_1 - (1 + par['b']*par['alpha'])*y_t)) # New AD\n",
    "SRAS2 = sm.Eq(pi_t,  pi_t1 + par['gamma']*y_t - par['phi']\n",
    "             *par['gamma']*y_t1 + s_t - par['phi']*s_t1) # New SRAS\n",
    "\n",
    "sol2 = sm.solve([AD2, SRAS2], [y_t, pi_t]) # Solves\n",
    "\n",
    "print('Successfully solved.')"
   ]
  },
  {
   "cell_type": "markdown",
   "metadata": {},
   "source": [
    "Lastly, we plot the two set of equilibrium values and illustrate this in a graph."
   ]
  },
  {
   "cell_type": "code",
   "execution_count": 18,
   "metadata": {
    "scrolled": false
   },
   "outputs": [
    {
     "name": "stdout",
     "output_type": "stream",
     "text": [
      "Equilibrium values without shock:\n"
     ]
    },
    {
     "data": {
      "image/png": "[encoded data removed]",
      "text/latex": [
       "$$\\left \\{ \\pi_{t} : 0.0, \\quad y_{t} : 0.0\\right \\}$$"
      ],
      "text/plain": [
       "{πₜ: 0.0, yₜ: 0.0}"
      ]
     },
     "metadata": {},
     "output_type": "display_data"
    },
    {
     "name": "stdout",
     "output_type": "stream",
     "text": [
      "Equilibrium values with shock:\n"
     ]
    },
    {
     "data": {
      "image/png": "[encoded data removed]",
      "text/latex": [
       "$$\\left \\{ \\pi_{t} : 0.0018310546875, \\quad y_{t} : 0.0244140625\\right \\}$$"
      ],
      "text/plain": [
       "{πₜ: 0.0018310546875, yₜ: 0.0244140625}"
      ]
     },
     "metadata": {},
     "output_type": "display_data"
    },
    {
     "data": {
      "image/png": "[encoded data removed]",
      "text/plain": [
       "<Figure size 720x504 with 1 Axes>"
      ]
     },
     "metadata": {
      "needs_background": "light"
     },
     "output_type": "display_data"
    }
   ],
   "source": [
    "y = np.linspace(-1.0,1.0,1000)   # Creates the values of y\n",
    "\n",
    "alpha     = par['alpha']\n",
    "h         = par['h']\n",
    "b         = par['b']\n",
    "phi       = par['phi']\n",
    "gamma     = par['gamma']\n",
    "v_t       = par['v_t']       = 0\n",
    "v_t_shock = par['v_t_shock'] = 0.1\n",
    "\n",
    "def AD(y,h,b,alpha,v_t):             # Defines AD\n",
    "    return 1/(h*alpha)*(v_t - (1 + b*alpha)*y)\n",
    "\n",
    "def AD_shock(y,h,b,alpha,v_t_shock): # Defines AD with shock\n",
    "    return 1/(h*alpha)*(v_t_shock - (1 + b*alpha)*y)\n",
    "\n",
    "def SRAS(pi_t1,gamma,phi,y,y_t1,s_t,s_t1): # Defines SRAS\n",
    "    return pi_t1 + gamma*y - phi*gamma*y_t1 + s_t - phi*s_t1\n",
    "\n",
    "plt.figure(figsize=(10,7))        # Initializes plot\n",
    "plt.xlim(left=-0.07, right=0.07)  # Sets x-axis limits\n",
    "plt.ylim(bottom=-0.07, top=0.07)  # Sets y-axis limits\n",
    "plt.grid()                        # Grids\n",
    "plt.plot(y,AD(y,h,b,alpha,v_t),'r-')          # Plots AD\n",
    "plt.plot(y,AD_shock(y,h,b,alpha,v_t_1),'r--') # Plots AD with shock\n",
    "plt.plot(y,SRAS(pi_t1,gamma,phi,y,y_t1,s_t,s_t1),'b-') # Plots SRAS\n",
    "plt.title('Illustration of the equilibria\\n', size=20) # Sets title and type size\n",
    "plt.xlabel('\\n$y_t$', size=15)   # Labels x-axis and sets type size\n",
    "plt.ylabel('$\\pi_t$', size=15)   # Labels y-axis and sets type size\n",
    "plt.legend(('AD without shock','AD with shock','SRAS'),\n",
    "           loc='upper right')    # Creates legend\n",
    "\n",
    "print('Equilibrium values without shock:') \n",
    "display(sol1) # Displays equilibrium w/o shock\n",
    "\n",
    "print('Equilibrium values with shock:') \n",
    "display(sol2) # Displays equilibrium w shock"
   ]
  },
  {
   "cell_type": "markdown",
   "metadata": {},
   "source": [
    "**Persistent disturbances:** Now, additionaly, assume that both the demand and the supply disturbances are AR(1) processes\n",
    "\n",
    "$$ v_{t} = \\delta v_{t-1} + x_{t} $$\n",
    "$$ s_{t} = \\omega s_{t-1} + c_{t} $$\n",
    "\n",
    "where $x_{t}$ is a **demand shock**, and $c_t$ is a **supply shock**. The **autoregressive parameters** are:"
   ]
  },
  {
   "cell_type": "code",
   "execution_count": 19,
   "metadata": {},
   "outputs": [
    {
     "name": "stdout",
     "output_type": "stream",
     "text": [
      "New parameters successfully set.\n"
     ]
    }
   ],
   "source": [
    "par['delta'] = 0.80\n",
    "par['omega'] = 0.15\n",
    "\n",
    "print('New parameters successfully set.')"
   ]
  },
  {
   "cell_type": "markdown",
   "metadata": {},
   "source": [
    "**Question 3:** Starting from $y_{-1} = \\pi_{-1} = s_{-1} = 0$, how does the economy evolve for $x_0 = 0.1$, $x_t = 0, \\forall t > 0$ and $c_t = 0, \\forall t \\geq 0$?"
   ]
  },
  {
   "cell_type": "markdown",
   "metadata": {},
   "source": [
    "We start out by defining the demand and supply disturbances."
   ]
  },
  {
   "cell_type": "code",
   "execution_count": 20,
   "metadata": {},
   "outputs": [
    {
     "name": "stdout",
     "output_type": "stream",
     "text": [
      "Success.\n"
     ]
    }
   ],
   "source": [
    "# Defines the two AR(1) processes\n",
    "v_t1 = sm.symbols('v_t-1')\n",
    "v_func = lambda v_t1,x: delta*v_t1 + x # Creates the function for v_t\n",
    "s_func = lambda s_t1,c: omega*s_t1 + c # Creates the function for s_t\n",
    "\n",
    "print('Success.')"
   ]
  },
  {
   "cell_type": "markdown",
   "metadata": {},
   "source": [
    "Now, we impose neccessary conditions and create two empty arrays."
   ]
  },
  {
   "cell_type": "code",
   "execution_count": 21,
   "metadata": {},
   "outputs": [
    {
     "name": "stdout",
     "output_type": "stream",
     "text": [
      "Success.\n"
     ]
    }
   ],
   "source": [
    "# Re-defines the parameters\n",
    "delta = par['delta']\n",
    "omega = par['omega']\n",
    "alpha = par['alpha']\n",
    "h     = par['h']\n",
    "b     = par['b']\n",
    "gamma = par['gamma']\n",
    "phi   = par['phi']\n",
    "\n",
    "# Imposes the conditions in t-1\n",
    "pi_vec = [0] # Sets pi_-1 = 0\n",
    "y_vec  = [0] # Sets y_-1  = 0\n",
    "v_vec  = [0] # Sets v_-1  = 0\n",
    "s_vec  = [0] # Sets s_-1  = 0\n",
    "\n",
    "T = 100         # T number of periods\n",
    "c = np.zeros(T) # Creates an array for c\n",
    "x = np.zeros(T) # Creates an array for x\n",
    "\n",
    "x[1]   = 0.1    # Sets x_0 = 0.1  \n",
    "                # Note: x[0] = 0.1 messes up notation, hence x[1]\n",
    "\n",
    "print('Success.')"
   ]
  },
  {
   "cell_type": "markdown",
   "metadata": {},
   "source": [
    "Next, we create vectors for $y_{t}$ and $\\pi_{t}$ based on the new disturbances."
   ]
  },
  {
   "cell_type": "code",
   "execution_count": 22,
   "metadata": {},
   "outputs": [
    {
     "name": "stdout",
     "output_type": "stream",
     "text": [
      "Success.\n"
     ]
    }
   ],
   "source": [
    "for i in range(1,T):\n",
    "\n",
    "    v_vec.append(v_func(v_vec[i-1], x[i])) # Updates the v vector\n",
    "    s_vec.append(s_func(s_vec[i-1], c[i])) # Updates the s vector\n",
    "     \n",
    "    y_vec.append(y_func(pi_vec[i-1], y_vec[i-1], v_vec[i], s_vec[i], s_vec[i-1], alpha, h, b, phi, gamma))   # Creates the y vector \n",
    "    pi_vec.append(pi_func(pi_vec[i-1], y_vec[i-1], v_vec[i], s_vec[i], s_vec[i-1], alpha, h, b, phi, gamma)) # Creates the pi vector\n",
    "    \n",
    "# The two latter vectors shows the development og y and pi over time\n",
    "\n",
    "print('Success.')"
   ]
  },
  {
   "cell_type": "markdown",
   "metadata": {},
   "source": [
    "Finally, we plot the effects of the demand shock."
   ]
  },
  {
   "cell_type": "code",
   "execution_count": 23,
   "metadata": {},
   "outputs": [
    {
     "data": {
      "image/png": "[encoded data removed]",
      "text/plain": [
       "<Figure size 1296x360 with 2 Axes>"
      ]
     },
     "metadata": {
      "needs_background": "light"
     },
     "output_type": "display_data"
    }
   ],
   "source": [
    "q   = np.linspace(0,T,T)             # Creates x-values based on periods T\n",
    "\n",
    "fig = plt.figure(figsize=(18,5))     # Initializes plot\n",
    "\n",
    "ax1 = fig.add_subplot(1,2,1)         # Initializes first subplot\n",
    "ax1.plot(q, y_vec, 'b-')             # Plots the vector\n",
    "ax1.set_ylabel('\\n$y_t$', size=15)   # Labels x-axis and sets type size\n",
    "ax1.set_xlabel('$Periods$', size=15) # Labels y-axis and sets type size\n",
    "ax1.grid()                           # Adds grids\n",
    "ax1.set_title('Development of $y_t$\\n', \n",
    "              size=15)               # Sets title and type size\n",
    "\n",
    "ax2 = fig.add_subplot(1,2,2)         # Initializes second subplot\n",
    "ax2.plot(q, pi_vec, 'b-')            # Plots the vector\n",
    "ax2.set_ylabel('\\n$π_t$', size=15)   # Labels x-axis and sets type size\n",
    "ax2.set_xlabel('$Periods$', size=15) # Labels y-axis and sets type size\n",
    "ax2.grid()                           # Adds grids\n",
    "ax2.set_title('Development of $π_t$\\n', \n",
    "              size=15)               # Sets title and type size\n",
    "\n",
    "plt.show()"
   ]
  },
  {
   "cell_type": "markdown",
   "metadata": {},
   "source": [
    "Above, we see that the demand shock temporarily creates a postive output and positive inflation gap. Both diminish and tend to zero over time, but while the inflation gap never becomes negative, the output gap does."
   ]
  },
  {
   "cell_type": "markdown",
   "metadata": {},
   "source": [
    "**Stochastic shocks:** Now, additionally, assume that $x_t$ and $c_t$ are stochastic and normally distributed\n",
    "\n",
    "$$ x_{t}\\sim\\mathcal{N}(0,\\sigma_{x}^{2}) $$\n",
    "$$ c_{t}\\sim\\mathcal{N}(0,\\sigma_{c}^{2}) $$\n",
    "\n",
    "The **standard deviations of the shocks** are:"
   ]
  },
  {
   "cell_type": "code",
   "execution_count": 24,
   "metadata": {},
   "outputs": [
    {
     "name": "stdout",
     "output_type": "stream",
     "text": [
      "New shocks successfully set.\n"
     ]
    }
   ],
   "source": [
    "par['sigma_x'] = 3.492\n",
    "par['sigma_c'] = 0.2\n",
    "\n",
    "print('New shocks successfully set.')"
   ]
  },
  {
   "cell_type": "markdown",
   "metadata": {},
   "source": [
    "**Question 4:** Simulate the AS-AD model for 1,000 periods. Calculate the following five statistics:\n",
    "\n",
    "1. Variance of $y_t$, $var(y_t)$\n",
    "2. Variance of $\\pi_t$, $var(\\pi_t)$\n",
    "3. Correlation between $y_t$ and $\\pi_t$, $corr(y_t,\\pi_t)$\n",
    "4. Auto-correlation between $y_t$ and $y_{t-1}$, $corr(y_t,y_{t-1})$\n",
    "5. Auto-correlation between $\\pi_t$ and $\\pi_{t-1}$, $corr(\\pi_t,\\pi_{t-1})$"
   ]
  },
  {
   "cell_type": "markdown",
   "metadata": {},
   "source": [
    "To simulate the AS-AD model as requested, we create the neccessary vectors for $y_t$ and $\\pi_t$ over a time span of 1.000 periods."
   ]
  },
  {
   "cell_type": "code",
   "execution_count": 25,
   "metadata": {},
   "outputs": [
    {
     "name": "stdout",
     "output_type": "stream",
     "text": [
      "Successful.\n"
     ]
    }
   ],
   "source": [
    "np.random.seed(1995)                                # Sets seed no.\n",
    "Time    = T*10                                      # Sets amount of period to T * 10 = 1000\n",
    "sigma_x = par['sigma_x']                            # Defines the parameter \n",
    "sigma_c = par['sigma_c']                            # Defines the parameter\n",
    "x = np.random.normal(loc=0,scale=sigma_x,size=Time) # Creates x as a std. norm. dist. with 0 as mean and (sigma_x)**2 as var.\n",
    "c = np.random.normal(loc=0,scale=sigma_c,size=Time) # Creates c as a std. norm. dist. with 0 as mean and (sigma_c)**2 as var.\n",
    "\n",
    "def sim1(Time, phi_custom): # Defines a function that simulates the model\n",
    "    \n",
    "    pi_vec1 = [0]           # Setting pi_-1 to 0\n",
    "    y_vec1  = [0]           # Setting y_-1 to 0\n",
    "    v_vec1  = [0]           # Setting v_-1 to o\n",
    "    s_vec1  = [0]           # Setting s_-1 to 0\n",
    "\n",
    "    for i in range(1,Time): # Runs the simulation up til period Time\n",
    "\n",
    "        v_vec1.append(v_func(v_vec1[i-1], x[i])) # Updtaes v_vector\n",
    "        s_vec1.append(s_func(s_vec1[i-1], c[i])) # Updates s_vector       \n",
    "\n",
    "        y_vec1.append(y_func(pi_vec1[i-1], y_vec1[i-1], v_vec1[i], s_vec1[i], s_vec1[i-1], alpha, h, b, phi_custom, gamma))   # Creates vector for y\n",
    "        pi_vec1.append(pi_func(pi_vec1[i-1], y_vec1[i-1], v_vec1[i], s_vec1[i], s_vec1[i-1], alpha, h, b, phi_custom, gamma)) # Creates vector for pi\n",
    "\n",
    "    pi_vec1 = np.array(pi_vec1) # Converts the pi_vector to a numpy array \n",
    "    y_vec1 = np.array(y_vec1)   # Converts the y_vector to a numpy array \n",
    "        \n",
    "    return pi_vec1, y_vec1\n",
    "\n",
    "pi_vec1, y_vec1 = sim1(Time, phi)\n",
    "\n",
    "print('Successful.')"
   ]
  },
  {
   "cell_type": "markdown",
   "metadata": {},
   "source": [
    "Below, we print the results. We print the results seperately, so we do not overwrite the vectors above."
   ]
  },
  {
   "cell_type": "code",
   "execution_count": 26,
   "metadata": {
    "scrolled": false
   },
   "outputs": [
    {
     "name": "stdout",
     "output_type": "stream",
     "text": [
      "The variance of yₜ: 1.82\n",
      "The variance of πₜ: 0.84\n",
      "\n",
      "The correlation between yₜ and πₜ: -0.15\n",
      "\n",
      "The auto-correlation between yₜ and yₜ-1: 0.77\n",
      "The auto-correlation between πₜ and πₜ-1: 0.98\n"
     ]
    }
   ],
   "source": [
    "print('The variance of y\\u209c: ' + f'{y_vec1.var():.2f}')\n",
    "print('The variance of π\\u209c: ' + f'{pi_vec1.var():.2f}')\n",
    "print(f'\\nThe correlation between y\\u209c and π\\u209c: {np.corrcoef(y_vec1, pi_vec1)[1,0]:.2f}')\n",
    "print(f'\\nThe auto-correlation between y\\u209c and y\\u209c-1: {np.corrcoef(y_vec1[1:], y_vec1[:-1])[1,0]:.2f}')\n",
    "print(f'The auto-correlation between π\\u209c and π\\u209c-1: {np.corrcoef(pi_vec1[1:], pi_vec1[:-1])[1,0]:.2f}')"
   ]
  },
  {
   "cell_type": "markdown",
   "metadata": {},
   "source": [
    "**Question 5:** Plot how the correlation between $y_t$ and $\\pi_t$ changes with $\\phi$. Use a numerical optimizer or root finder to choose $\\phi\\in(0,1)$ such that the simulated correlation between $y_t$ and $\\pi_t$ comes close to 0.31. "
   ]
  },
  {
   "cell_type": "markdown",
   "metadata": {},
   "source": [
    "Firstly, we create the relevant series to plot, i.e. the given correlation as a function of $\\phi$."
   ]
  },
  {
   "cell_type": "code",
   "execution_count": 27,
   "metadata": {
    "scrolled": false
   },
   "outputs": [
    {
     "name": "stdout",
     "output_type": "stream",
     "text": [
      "Successful.\n"
     ]
    }
   ],
   "source": [
    "phies = np.linspace(0,1,100) # Creates different values for phi\n",
    "\n",
    "pi_dict = {}                 # Creates a dict. for pi to store results from the simualtions for diff. phi values\n",
    "y_dict = {}                  # Creates a dict. for y to store results from the simualtions for diff. phi values\n",
    "corr = []                    # Creates a list for the correlations\n",
    "\n",
    "for i,p in enumerate(phies): # Creates a for loop for the phies\n",
    "    pi_dict['pi_vec2_%s' % i], y_dict['y_vec2_%s' % i] = sim1(Time, phies[i])\n",
    "    corr.append(np.corrcoef(y_dict['y_vec2_%s' %i], pi_dict['pi_vec2_%s' % i])[1,0])\n",
    "\n",
    "print('Successful.')"
   ]
  },
  {
   "cell_type": "markdown",
   "metadata": {},
   "source": [
    "We then plot the correlation."
   ]
  },
  {
   "cell_type": "code",
   "execution_count": 28,
   "metadata": {},
   "outputs": [
    {
     "data": {
      "image/png": "[encoded data removed]",
      "text/plain": [
       "<Figure size 720x432 with 1 Axes>"
      ]
     },
     "metadata": {
      "needs_background": "light"
     },
     "output_type": "display_data"
    }
   ],
   "source": [
    "fig = plt.figure(figsize=(10,6))    # Initializes plot\n",
    "plt.plot(phies, corr) # Plots the relevant series\n",
    "plt.ylabel('Correlation between $y_t$ and $\\pi_t$\\n',\n",
    "          size=15)    # Labels y-axis and sets type size\n",
    "plt.xlabel('$\\phi$',  # Labels x-axis and sets type size\n",
    "          size=15)\n",
    "plt.title('Correlation as a function of $\\phi$\\n',\n",
    "         size=15)     # Sets title and type size\n",
    "plt.grid()            # Adds grids\n",
    "\n",
    "plt.show()"
   ]
  },
  {
   "cell_type": "markdown",
   "metadata": {},
   "source": [
    "We see that the $\\phi$-value needs to be around 0.95 to obtain the requested correlation. However, to calculate the exact value, we now perform a bisection procedure."
   ]
  },
  {
   "cell_type": "code",
   "execution_count": 29,
   "metadata": {},
   "outputs": [
    {
     "name": "stdout",
     "output_type": "stream",
     "text": [
      "Bisection successful.\n"
     ]
    }
   ],
   "source": [
    "obj_func1 = lambda phi: np.corrcoef(sim1(Time, # Defines the objective function\n",
    "                    phi)[0], sim1(Time, phi)[1])[1,0] - 0.31\n",
    "\n",
    "def bisection(obj_func1,a,b,tol=1e-8):        #Creates a bisection function\n",
    "\n",
    "    # Test inputs\n",
    "    if obj_func1(a) * obj_func1(b) >= 0:\n",
    "        print(\"Bisection method fails.\")\n",
    "        return None\n",
    "    \n",
    "    # Step 1: Initializes\n",
    "    a_n = a\n",
    "    b_n = b\n",
    "    \n",
    "    # Step 2-4:\n",
    "    while True:\n",
    "        \n",
    "        # Step 2: Midpoint and associated value\n",
    "        m_n = (a_n+b_n)/2\n",
    "        f_m_n = obj_func1(m_n)\n",
    "        \n",
    "        # Step 3: Determine sub-interval\n",
    "        if abs(f_m_n) < tol:\n",
    "            return m_n\n",
    "        elif obj_func1(a_n)*f_m_n < 0:\n",
    "            a_n = a_n\n",
    "            b_n = m_n\n",
    "        elif obj_func1(b_n)*f_m_n < 0:\n",
    "            a_n = m_n\n",
    "            b_n = b_n\n",
    "        else:\n",
    "            print(\"Bisection method fails.\")\n",
    "            return None\n",
    "        \n",
    "    return (a_n + b_n)/2\n",
    "\n",
    "phi_sol = bisection(obj_func1,0,1,1e-8) # Uses function to find desired value\n",
    "\n",
    "print('Bisection successful.')"
   ]
  },
  {
   "cell_type": "markdown",
   "metadata": {},
   "source": [
    "Finally, we print the result."
   ]
  },
  {
   "cell_type": "code",
   "execution_count": 30,
   "metadata": {},
   "outputs": [
    {
     "name": "stdout",
     "output_type": "stream",
     "text": [
      "The solution is a Φ-value of 0.94369.\n"
     ]
    }
   ],
   "source": [
    "print(f'The solution is a Φ-value of '+ str(round(phi_sol,5)) + '.')"
   ]
  },
  {
   "cell_type": "markdown",
   "metadata": {},
   "source": [
    "Thus, the exact value is about 0.94, which is in accordance with the plot."
   ]
  },
  {
   "cell_type": "markdown",
   "metadata": {},
   "source": [
    "**Quesiton 6:** Use a numerical optimizer to choose $\\sigma_x>0$, $\\sigma_c>0$ and $\\phi\\in(0,1)$ to make the simulated statistics as close as possible to US business cycle data where:\n",
    "\n",
    "1. $var(y_t) = 1.64$\n",
    "2. $var(\\pi_t) = 0.21$\n",
    "3. $corr(y_t,\\pi_t) = 0.31$\n",
    "4. $corr(y_t,y_{t-1}) = 0.84$\n",
    "5. $corr(\\pi_t,\\pi_{t-1}) = 0.48$"
   ]
  },
  {
   "cell_type": "markdown",
   "metadata": {},
   "source": [
    "We create the following simulation function as to match the desired and observed values above."
   ]
  },
  {
   "cell_type": "code",
   "execution_count": 31,
   "metadata": {},
   "outputs": [
    {
     "name": "stdout",
     "output_type": "stream",
     "text": [
      "The solution is Φ = 0.9437,  σ_x = 3.492 and σ_c = 0.2.\n"
     ]
    }
   ],
   "source": [
    "def sim2(Time, phi_custom, sigma_x, sigma_c): # Defines a function for the simulation of the model with a stochastic process\n",
    "\n",
    "    # Defines stochastic process inside function\n",
    "    xx = np.random.normal(loc=0,scale=sigma_x,size=Time) # Creates the stochastics for x\n",
    "    cc = np.random.normal(loc=0,scale=sigma_c,size=Time) # Creates the stochastics for c\n",
    "    \n",
    "    pi_vec2 = [0]                             # Sets pi_-1 = 0\n",
    "    y_vec2  = [0]                             # Sets y_-1 = 0\n",
    "    v_vec2  = [0]                             # Sets v_-1 = 0\n",
    "    s_vec2  = [0]                             # Sets s_-1 = 0\n",
    "\n",
    "    for t in range(1,Time):                   # Runs the simulation from t to T=Time\n",
    "\n",
    "        v_vec2.append(v_func(v_vec2[t-1], xx[t])) # Updates v_vector\n",
    "        s_vec2.append(s_func(s_vec2[t-1], cc[t])) # Updates s_vector\n",
    " \n",
    "        y_vec2.append(y_func(pi_vec2[t-1], y_vec2[t-1],v_vec2[t], s_vec2[t], s_vec2[t-1], alpha, h, b, phi_sol, gamma))\n",
    "        pi_vec2.append(pi_func(pi_vec2[t-1], y_vec2[t-1], v_vec2[t], s_vec2[t], s_vec2[t-1], alpha, h, b, phi_sol, gamma))\n",
    "\n",
    "    pi_vec2 = np.array(pi_vec2)                # Creates a numpy array of the vector for pi\n",
    "    y_vec2 = np.array(y_vec2)                  # Creates a numpy array of the vector for y\n",
    "        \n",
    "    return pi_vec2, y_vec2\n",
    "\n",
    "parametros = [phi, sigma_x, sigma_c]           # Defines a vector of the parameters\n",
    "\n",
    "var_y    = np.var(sim2(Time, parametros[0], parametros[1], parametros[2])[1]) - 1.64   # Creates the constraint for the variance of y\n",
    "var_pi   = np.var(sim2(Time, parametros[0], parametros[1], parametros[2])[0]) - 0.21   # Creates the constraint for the variance of pi\n",
    "corr_ypi = np.corrcoef(sim2(Time, parametros[0], parametros[1], parametros[2])[0],     # Creates the constraint for correlation of y_t and pi_t\n",
    "                       sim2(Time, parametros[0], parametros[1], parametros[2])[1])[1,0] - 0.31\n",
    "corr_y   = np.corrcoef(sim2(Time, parametros[0], parametros[1], parametros[2])[1][1:], # Creates the constraint for the correlation of y_t and y_t-1\n",
    "                     sim2(Time, parametros[0], parametros[1], parametros[2])[1][:-1])[1,0] - 0.84\n",
    "corr_pi  = np.corrcoef(sim2(Time, parametros[0], parametros[1], parametros[2])[0][1:], # Creates the constraint for the correlation of pi_t and p_t-1\n",
    "                      sim2(Time, parametros[0], parametros[1], parametros[2])[0][:-1])[1,0] - 0.48\n",
    "\n",
    "limits = [[0,1], [0,50], [0,50]]               # Defines a vector of bounds\n",
    "\n",
    "x0     = np.array([phi_sol, sigma_x, sigma_c]) # Sets initial values equal to the found values\n",
    "\n",
    "obj_func2   = lambda parametros: var_y + var_pi + corr_ypi + corr_y + corr_pi\n",
    "result = optimize.minimize(obj_func2, x0=x0, bounds=limits,  method='SLSQP')\n",
    "\n",
    "phi_sol = round(x0[0],4)\n",
    "sigma_x_sol = round(x0[1],4)\n",
    "sigma_c_sol = round(x0[2],4)\n",
    "\n",
    "print(f'The solution is Φ = {phi_sol},  σ_x = {sigma_x_sol} and σ_c = {sigma_c_sol}.')"
   ]
  },
  {
   "cell_type": "markdown",
   "metadata": {},
   "source": [
    "# 3. Exchange economy"
   ]
  },
  {
   "cell_type": "markdown",
   "metadata": {},
   "source": [
    "Consider an **exchange economy** with\n",
    "\n",
    "1. 3 goods, $(x_1,x_2,x_3)$\n",
    "2. $N$ consumers indexed by \\\\( j \\in \\{1,2,\\dots,N\\} \\\\)\n",
    "3. Preferences are Cobb-Douglas with log-normally distributed coefficients\n",
    "\n",
    "    $$ \\begin{eqnarray*}\n",
    "    u^{j}(x_{1},x_{2},x_{3}) &=& \n",
    "    \\left(x_{1}^{\\beta_{1}^{j}}x_{2}^{\\beta_{2}^{j}}x_{3}^{\\beta_{3}^{j}}\\right)^{\\gamma}\\\\\n",
    "     &  & \\,\\,\\,\\beta_{i}^{j}=\\frac{\\alpha_{i}^{j}}{\\alpha_{1}^{j}+\\alpha_{2}^{j}+\\alpha_{3}^{j}} \\\\\n",
    "     &  & \\,\\,\\,\\boldsymbol{\\alpha}^{j}=(\\alpha_{1}^{j},\\alpha_{2}^{j},\\alpha_{3}^{j}) \\\\ \n",
    "     &  & \\,\\,\\,\\log(\\boldsymbol{\\alpha}^j) \\sim \\mathcal{N}(\\mu,\\Sigma) \\\\\n",
    "    \\end{eqnarray*} $$\n",
    "\n",
    "4. Endowments are exponentially distributed,\n",
    "\n",
    "$$\n",
    "\\begin{eqnarray*}\n",
    "\\boldsymbol{e}^{j} &=& (e_{1}^{j},e_{2}^{j},e_{3}^{j}) \\\\\n",
    " &  & e_i^j \\sim f, f(z;\\zeta) =  1/\\zeta \\exp(-z/\\zeta)\n",
    "\\end{eqnarray*}\n",
    "$$"
   ]
  },
  {
   "cell_type": "markdown",
   "metadata": {},
   "source": [
    "Let $p_3 = 1$ be the **numeraire**. The implied **demand functions** are:\n",
    "\n",
    "$$\n",
    "\\begin{eqnarray*}\n",
    "x_{i}^{\\star j}(p_{1},p_{2},\\boldsymbol{e}^{j})&=&\\beta^{j}_i\\frac{I^j}{p_{i}} \\\\\n",
    "\\end{eqnarray*}\n",
    "$$\n",
    "\n",
    "where consumer $j$'s income is\n",
    "\n",
    "$$I^j = p_1 e_1^j + p_2 e_2^j +p_3 e_3^j$$"
   ]
  },
  {
   "cell_type": "markdown",
   "metadata": {},
   "source": [
    "The **parameters** and **random preferences and endowments** are given by:"
   ]
  },
  {
   "cell_type": "code",
   "execution_count": 32,
   "metadata": {},
   "outputs": [
    {
     "name": "stdout",
     "output_type": "stream",
     "text": [
      "Parameters, random preferences and endowments successfully set.\n"
     ]
    }
   ],
   "source": [
    "# Parameters\n",
    "N      = 50000\n",
    "mu     = np.array([3,2,1])\n",
    "Sigma  = np.array([[0.25, 0, 0], [0, 0.25, 0], [0, 0, 0.25]])\n",
    "gamma  = 0.8\n",
    "zeta   = 1\n",
    "\n",
    "# Random draws\n",
    "seed   = 1986\n",
    "np.random.seed(seed)\n",
    "\n",
    "# Preferences\n",
    "alphas = np.exp(np.random.multivariate_normal(mu, Sigma, size=N))\n",
    "betas  = alphas/np.reshape(np.sum(alphas,axis=1),(N,1))\n",
    "\n",
    "# Endowments\n",
    "e1 = np.random.exponential(zeta,size=N)\n",
    "e2 = np.random.exponential(zeta,size=N)\n",
    "e3 = np.random.exponential(zeta,size=N)\n",
    "\n",
    "print('Parameters, random preferences and endowments successfully set.')"
   ]
  },
  {
   "cell_type": "markdown",
   "metadata": {},
   "source": [
    "**Question 1:** Plot the histograms of the budget shares for each good across agents."
   ]
  },
  {
   "cell_type": "markdown",
   "metadata": {},
   "source": [
    "Firstly, we extracts the budget shares one by one."
   ]
  },
  {
   "cell_type": "code",
   "execution_count": 33,
   "metadata": {},
   "outputs": [
    {
     "name": "stdout",
     "output_type": "stream",
     "text": [
      "Extracting successful.\n"
     ]
    }
   ],
   "source": [
    "np.shape(betas)     # Shape of vector of betas, (50000, 3)\n",
    "\n",
    "# Extracts\n",
    "betas1 = betas[:,0] # Share of good 1\n",
    "betas2 = betas[:,1] # Share of good 2\n",
    "betas3 = betas[:,2] # Share of good 3\n",
    "\n",
    "print('Extracting successful.')"
   ]
  },
  {
   "cell_type": "markdown",
   "metadata": {},
   "source": [
    "Then, we plot these in histograms."
   ]
  },
  {
   "cell_type": "code",
   "execution_count": 34,
   "metadata": {
    "scrolled": true
   },
   "outputs": [
    {
     "data": {
      "image/png": "[encoded data removed]",
      "text/plain": [
       "<Figure size 1296x360 with 3 Axes>"
      ]
     },
     "metadata": {
      "needs_background": "light"
     },
     "output_type": "display_data"
    }
   ],
   "source": [
    "fig = plt.figure(figsize=(18,5))   # Initializes plot\n",
    "\n",
    "ax1 = fig.add_subplot(1,3,1)       # Initializes first subplot\n",
    "ax1.hist(betas1, bins=100, color=['blue']) # Plots the relevant series\n",
    "ax1.set_xlim(0,1)                  # Sets limits on x-axis\n",
    "ax1.set_ylim(0,2500)               # Sets limits on y-axis\n",
    "ax1.set_title('Good 1\\n', size=15) # Sets title and type size\n",
    "ax1.set_xlabel('\\nBudget share 1, \\u03B2$_{1}$',\n",
    "               size=15)            # Labels x-axis and sets type size\n",
    "ax1.set_ylabel('Consumers\\n',\n",
    "               size=15)            # Labels x-axis and sets type size\n",
    "ax1.grid()                         # Adds grids\n",
    "\n",
    "ax2 = fig.add_subplot(1,3,2)       # Initializes second subplot\n",
    "ax2.hist(betas2, bins=100, color=['blue']) # Plots the relevant series\n",
    "ax2.set_xlim(0,1)                  # Sets limits on x-axis\n",
    "ax2.set_ylim(0,2500)               # Sets limits on y-axis\n",
    "ax2.set_title('Good 2\\n', size=15) # Sets title and type size\n",
    "ax2.set_xlabel('\\nBudget share 2, \\u03B2$_{2}$',\n",
    "               size=15)            # Labels x-axis and sets type size\n",
    "ax2.grid()                         # Adds grids\n",
    "\n",
    "ax3 = fig.add_subplot(1,3,3)       # Initializes third subplot \n",
    "ax3.hist(betas3, bins=100, color=['blue']) # Plots the relevant series\n",
    "ax3.set_xlim(0,1)                  # Sets limits on x-axis\n",
    "ax3.set_ylim(0,2500)               # Sets limits on y-axis\n",
    "ax3.set_title('Good 3\\n', size=15) # Sets title and type size\n",
    "ax3.set_xlabel('\\nBudget share 3, \\u03B2$_{3}$',\n",
    "               size=15)            # Labels x-axis and sets type size\n",
    "ax3.grid()                         # Adds grids"
   ]
  },
  {
   "cell_type": "markdown",
   "metadata": {},
   "source": [
    "Consider the **excess demand functions:**\n",
    "\n",
    "$$ z_i(p_1,p_2) = \\sum_{j=1}^N x_{i}^{\\star j}(p_{1},p_{2},\\boldsymbol{e}^{j}) - e_i^j$$\n",
    "\n",
    "**Question 2:** Plot the excess demand functions."
   ]
  },
  {
   "cell_type": "markdown",
   "metadata": {},
   "source": [
    "We define three demand functions - one for each good. We remember that $p_3 = 1$."
   ]
  },
  {
   "cell_type": "code",
   "execution_count": 35,
   "metadata": {},
   "outputs": [
    {
     "name": "stdout",
     "output_type": "stream",
     "text": [
      "Defining successful.\n"
     ]
    }
   ],
   "source": [
    "def demand_good1(p1,p2,e1,e2,e3,betas): # Demand function of good 1\n",
    "    I = e1*p1 + e2*p2 + e3              # Income, p3=1\n",
    "    return betas[:,0]*I/p1              # Demand output\n",
    "\n",
    "def demand_good2(p1,p2,e1,e2,e3,betas): # Demand function of good 2\n",
    "    I = e1*p1 +e2*p2 + e3               # Income, p3=1\n",
    "    return betas[:,1]*I/p2              # Demand output\n",
    "\n",
    "def demand_good3(p1,p2,e1,e2,e3,betas): # Demand function of good 3\n",
    "    I = e1*p1 + e2*p2 + e3              # Income, p3=1\n",
    "    return betas[:,2]*I                 # Demand output, p3=1\n",
    "\n",
    "print('Defining successful.')"
   ]
  },
  {
   "cell_type": "markdown",
   "metadata": {},
   "source": [
    "Next, we define three excess demand functions - one for each good, of course."
   ]
  },
  {
   "cell_type": "code",
   "execution_count": 36,
   "metadata": {},
   "outputs": [
    {
     "name": "stdout",
     "output_type": "stream",
     "text": [
      "Defining successful.\n"
     ]
    }
   ],
   "source": [
    "def excess_g1(p1,p2,e1,e2,e3,betas): # Excess fuction of good 1\n",
    "    demand = np.sum(demand_good1(p1,p2,e1,e2,e3,betas)) # Total demand\n",
    "    supply = np.sum(e1)                                 # Total supply\n",
    "    excess = demand-supply           # Difference = excess\n",
    "    return excess\n",
    "\n",
    "def excess_g2(p1,p2,e1,e2,e3,betas): # Excess fuction of good 2\n",
    "    demand = np.sum(demand_good2(p1,p2,e1,e2,e3,betas)) # Total demand\n",
    "    supply = np.sum(e2)                                 # Total supply\n",
    "    excess = demand-supply           # Difference = excess\n",
    "    return excess\n",
    "\n",
    "def excess_g3(p1,p2,e1,e2,e3,betas): # Excess fuction of good 3\n",
    "    demand = np.sum(demand_good3(p1,p2,e1,e2,e3,betas)) # Total demand\n",
    "    supply = np.sum(e3)                                 # Total supply\n",
    "    excess = demand-supply           # Difference = excess\n",
    "    return excess\n",
    "\n",
    "print('Defining successful.')"
   ]
  },
  {
   "cell_type": "markdown",
   "metadata": {},
   "source": [
    "Now, we prepare the grids for the plot. We create two vectors, one for $p_1$ and one for $p_2$, and then create the corresponding values of the excess demand of good 1 and 2 for every price combination of $p_1$ and $p_2$. Again, we remember that $p_3 = 1$."
   ]
  },
  {
   "cell_type": "code",
   "execution_count": 37,
   "metadata": {},
   "outputs": [
    {
     "name": "stdout",
     "output_type": "stream",
     "text": [
      "Successful.\n"
     ]
    }
   ],
   "source": [
    "excess_g1_grid = np.empty((100,100)) # Creates empty grid for excess demand of good 1\n",
    "excess_g2_grid = np.empty((100,100)) # Creates empty grid for excess demand of good 2\n",
    "\n",
    "p1s = p2s = np.linspace(1,10,100)    # Creates vectors of p1 and p2\n",
    "\n",
    "p1_grid, p2_grid = np.meshgrid(p1s, p2s) # Transforms vectors to grid\n",
    "\n",
    "# Calculates excess demand for every combination of prices\n",
    "for i,p1     in enumerate(p1s):\n",
    "    for j,p2 in enumerate(p2s):\n",
    "        excess_g1_grid[i,j] = excess_g1(p1,p2,e1,e2,e3,betas)\n",
    "        excess_g2_grid[i,j] = excess_g2(p1,p2,e1,e2,e3,betas)\n",
    "\n",
    "print('Successful.')"
   ]
  },
  {
   "cell_type": "markdown",
   "metadata": {},
   "source": [
    "Now, we plot both excess demand functions for good 1 and good 2, respectively."
   ]
  },
  {
   "cell_type": "code",
   "execution_count": 38,
   "metadata": {},
   "outputs": [
    {
     "data": {
      "image/png": "[encoded data removed]",
      "text/plain": [
       "<Figure size 1008x504 with 2 Axes>"
      ]
     },
     "metadata": {
      "needs_background": "light"
     },
     "output_type": "display_data"
    }
   ],
   "source": [
    "fig = plt.figure(figsize=(14,7))              # Initializes plot\n",
    "\n",
    "ax1 = fig.add_subplot(1,2,1, projection='3d') # Initializes first subplot\n",
    "ax1.plot_surface(p1_grid,p2_grid,             # Plots the relevant series\n",
    "                 excess_g1_grid/10000,cmap=cm.coolwarm) # Downscales the z-axis and adds cold/warm scale\n",
    "ax1.set_title('Excess demand of good 1\\n', size=15)     # Sets title and type size\n",
    "ax1.set_xlabel('$p_1$',   size=15) # Labels x-axis and sets type size\n",
    "ax1.set_ylabel('\\n$p_2$', size=15) # Labels y-axis and sets type size\n",
    "ax1.invert_xaxis()                 # Creates increasing x-axis\n",
    "\n",
    "ax2 = fig.add_subplot(1,2,2, projection='3d') # Initializes second subplot\n",
    "ax2.plot_surface(p1_grid,p2_grid,             # Plots the relevant series\n",
    "                 excess_g2_grid/10000,cmap=cm.coolwarm) # Downscales the z-axis and adds cold/warm scale\n",
    "ax2.set_title('Excess demand of good 2\\n', size=15)     # Sets title and type size\n",
    "ax2.set_xlabel('$p_1$',   size=15) # Labels x-axis and sets type size\n",
    "ax2.set_ylabel('\\n$p_2$', size=15) # Labels y-axis and sets type size\n",
    "ax2.invert_xaxis()                 # Creates increasing x-axis\n",
    "\n",
    "plt.show()"
   ]
  },
  {
   "cell_type": "markdown",
   "metadata": {},
   "source": [
    "Both plots clearly show that the excess demand of the given good rises, when its price increases and the other good's price decreases. This is in accordance to what one could expect."
   ]
  },
  {
   "cell_type": "markdown",
   "metadata": {},
   "source": [
    "**Question 3:** Find the Walras-equilibrium prices, $(p_1,p_2)$, where both excess demands are (approximately) zero, e.g. by using the following tâtonnement process:\n",
    "\n",
    "1. Guess on $p_1 > 0$, $p_2 > 0$ and choose tolerance $\\epsilon > 0$ and adjustment aggressivity parameter, $\\kappa > 0$.\n",
    "2. Calculate $z_1(p_1,p_2)$ and $z_2(p_1,p_2)$.\n",
    "3. If $|z_1| < \\epsilon$ and $|z_2| < \\epsilon$ then stop.\n",
    "4. Else set $p_1 = p_1 + \\kappa \\frac{z_1}{N}$ and $p_2 = p_2 + \\kappa \\frac{z_2}{N}$ and return to step 2."
   ]
  },
  {
   "cell_type": "markdown",
   "metadata": {},
   "source": [
    "Below, we set up the tâtonnement process as described above."
   ]
  },
  {
   "cell_type": "code",
   "execution_count": 39,
   "metadata": {},
   "outputs": [
    {
     "name": "stdout",
     "output_type": "stream",
     "text": [
      "Tâtonnement process successfully set.\n"
     ]
    }
   ],
   "source": [
    "def tat(p1,p2,e1,e2,e3,betas,epsilon=0.0001,kappa=0.5,prints=True): # Defines tat process\n",
    "\n",
    "    # 1. Calculates initial excess of good 1 and good 2\n",
    "    g_1 = excess_g1(p1,p2,e1,e2,e3,betas)\n",
    "    g_2 = excess_g2(p1,p2,e1,e2,e3,betas)\n",
    "    if prints: # Prints initial excesses and prices\n",
    "        print(f'Initial values{\" \":5s}: Excess of good 1 = {g_1:.3f}, Excess of good 2 = {g_2:.3f} with p\\u2081 = {p1:.2f} and p\\u2082 = {p2:.2f} \\n')\n",
    "    \n",
    "    # Sets first iteration\n",
    "    t = 1\n",
    "    \n",
    "    # While-loop with 10.000 iterations,\n",
    "    # should be sufficient for any set of price guesses\n",
    "    while t < 10000:\n",
    "        \n",
    "        # 2. Calculates initial excess of good 1 and good 2\n",
    "        g_1 = excess_g1(p1,p2,e1,e2,e3,betas)\n",
    "        g_2 = excess_g2(p1,p2,e1,e2,e3,betas)\n",
    "\n",
    "        # 3. Checks whether excess demands are below epsilon level\n",
    "        if abs(g_1) < epsilon and abs(g_2) < epsilon:\n",
    "            if prints:\n",
    "                print(f'\\nPrices in the Walrasian equilibrium are p\\u2081 = {p1:.4f} and p\\u2082 = {p2:.4f}.')\n",
    "            p1_we = p1\n",
    "            p2_we = p2\n",
    "            return p1_we, p2_we # we = Walras equilibrium\n",
    "              \n",
    "        else:\n",
    "        # 4. If epsilon is not reached,\n",
    "            p1 += kappa*g_1/N # p1 is adjusted with kappa-adjustment\n",
    "            p2 += kappa*g_2/N # and p2 is adjusted with kappa-adjustment as well\n",
    " \n",
    "        if prints: # Prints iteration process \n",
    "            if t <= 3:\n",
    "                print(f'Iteration no. {t:5.0f}: Excess of good 1 = {g_1:7.3f}, Excess of good 2 = {g_2:7.3f} with p\\u2081 = {p1:.2f} and p\\u2082 = {p2:.2f}')\n",
    "                time.sleep(1)\n",
    "\n",
    "            if t == 3:\n",
    "                print('...')\n",
    "\n",
    "            if t%250 == 0:\n",
    "                print(f'Iteration no. {t:5.0f}: Excess of good of 1 = {g_1:7.3f}, Excess of good 2 = {g_2:7.3f} with p\\u2081 = {p1:.2f} and p\\u2082 = {p2:.2f}')\n",
    "\n",
    "        # Updates counter\n",
    "        t += 1\n",
    "        \n",
    "    # Prints if max no. of iterations reached\n",
    "    if t == 10000: \n",
    "        print('Too many iterations required.')\n",
    "        return None, None\n",
    "              \n",
    "print('Tâtonnement process successfully set.')"
   ]
  },
  {
   "cell_type": "markdown",
   "metadata": {},
   "source": [
    "Now, we start the iteration process with guesses of $p_1=7$ and $p_1=3$."
   ]
  },
  {
   "cell_type": "code",
   "execution_count": 40,
   "metadata": {
    "scrolled": false
   },
   "outputs": [
    {
     "name": "stdout",
     "output_type": "stream",
     "text": [
      "Initial values     : Excess of good 1 = 449.086, Excess of good 2 = -2524.908 with p₁ = 7.00 and p₂ = 3.00 \n",
      "\n",
      "Iteration no.     1: Excess of good 1 = 449.086, Excess of good 2 = -2524.908 with p₁ = 7.00 and p₂ = 2.97\n",
      "Iteration no.     2: Excess of good 1 = 322.259, Excess of good 2 = -2213.885 with p₁ = 7.01 and p₂ = 2.95\n",
      "Iteration no.     3: Excess of good 1 = 213.030, Excess of good 2 = -1939.915 with p₁ = 7.01 and p₂ = 2.93\n",
      "...\n",
      "Iteration no.   250: Excess of good of 1 = -57.328, Excess of good 2 = -21.384 with p₁ = 6.55 and p₂ = 2.64\n",
      "Iteration no.   500: Excess of good of 1 =  -5.891, Excess of good 2 =  -2.198 with p₁ = 6.50 and p₂ = 2.62\n",
      "Iteration no.   750: Excess of good of 1 =  -0.596, Excess of good 2 =  -0.222 with p₁ = 6.49 and p₂ = 2.62\n",
      "Iteration no.  1000: Excess of good of 1 =  -0.060, Excess of good 2 =  -0.022 with p₁ = 6.49 and p₂ = 2.62\n",
      "Iteration no.  1250: Excess of good of 1 =  -0.006, Excess of good 2 =  -0.002 with p₁ = 6.49 and p₂ = 2.62\n",
      "Iteration no.  1500: Excess of good of 1 =  -0.001, Excess of good 2 =  -0.000 with p₁ = 6.49 and p₂ = 2.62\n",
      "\n",
      "Prices in the Walrasian equilibrium are p₁ = 6.4901 and p₂ = 2.6167.\n"
     ]
    }
   ],
   "source": [
    "p1 = 7 # Price guess of p1\n",
    "p2 = 3 # Price guess of p2\n",
    "\n",
    "p1_we, p2_we = tat(p1,p2,e1,e2,e3,betas) # Starts tâtonnement process"
   ]
  },
  {
   "cell_type": "markdown",
   "metadata": {},
   "source": [
    "In this case, it takes about 1.500 iterations before the Walrasian equilibrium is reached with a tolerance level of $\\epsilon=0.0001$ and kappa adjustment of $\\kappa=0.5$. In addition, we remember that if the market for good 1 and good 2 both clear, the last and third market automatically clears as well, cf. Walrasian theory."
   ]
  },
  {
   "cell_type": "markdown",
   "metadata": {},
   "source": [
    "**Question 4:** Plot the distribution of utility in the Walras-equilibrium and calculate its mean and variance."
   ]
  },
  {
   "cell_type": "markdown",
   "metadata": {},
   "source": [
    "We start by defining the utility function of consumer $j$."
   ]
  },
  {
   "cell_type": "code",
   "execution_count": 41,
   "metadata": {},
   "outputs": [],
   "source": [
    "def util(p1, p2, e1, e2, e3, betas, gamma): # Defines utility\n",
    "    I = p1*e1 + p2*e2 + e3  # Calculates income\n",
    "    \n",
    "    x_1 = betas[:,0]*(I/p1) # Demand of good 1\n",
    "    x_2 = betas[:,1]*(I/p2) # Demand of good 2\n",
    "    x_3 = betas[:,2]*I      # Demand of good 3\n",
    "    \n",
    "    # Calculates utility\n",
    "    u = (x_1**(betas[:,0]) + x_2**(betas[:,1]) + x_3**(betas[:,2]))**gamma\n",
    "    return u"
   ]
  },
  {
   "cell_type": "markdown",
   "metadata": {},
   "source": [
    "Next, we plot the distribution of utility values."
   ]
  },
  {
   "cell_type": "code",
   "execution_count": 42,
   "metadata": {},
   "outputs": [
    {
     "name": "stdout",
     "output_type": "stream",
     "text": [
      "The distribution has a mean of 2.376 with variance 0.208.\n"
     ]
    },
    {
     "data": {
      "image/png": "[encoded data removed]",
      "text/plain": [
       "<Figure size 504x360 with 1 Axes>"
      ]
     },
     "metadata": {
      "needs_background": "light"
     },
     "output_type": "display_data"
    }
   ],
   "source": [
    "utility = util(p1_we, p2_we, e1, e2, e3, betas, gamma) # Calls vector of utilities\n",
    "\n",
    "mean = np.mean(utility) # Calculates mean\n",
    "var  = np.var(utility)  # Calculates variance\n",
    "\n",
    "fig  = plt.figure(figsize=(7,5))   # Initializes plot\n",
    "\n",
    "plt.hist(utility, bins=200, color=['blue']) # Plots the relevant series\n",
    "plt.title('Distribution of utilities\\n', size=15)  # Sets title and type size\n",
    "plt.xlabel('\\nValues', size=15)    # Labels x-axis and sets type size\n",
    "plt.ylabel('Consumers\\n', size=15) # Labels y-axis and sets type size\n",
    "plt.grid()                         # Adds grids\n",
    "\n",
    "print(f'The distribution has a mean of {mean:.3f} with variance {var:.3f}.')"
   ]
  },
  {
   "cell_type": "markdown",
   "metadata": {},
   "source": [
    "**Question 5:** Find the Walras-equilibrium prices if instead all endowments were distributed equally. Discuss the implied changes in the distribution of utility. Does the value of $\\gamma$ play a role for your conclusions?"
   ]
  },
  {
   "cell_type": "markdown",
   "metadata": {},
   "source": [
    "We define the new set of endowments and then solve for the new equilibrium set of prices."
   ]
  },
  {
   "cell_type": "code",
   "execution_count": 43,
   "metadata": {},
   "outputs": [
    {
     "name": "stdout",
     "output_type": "stream",
     "text": [
      "Initial values     : Excess of good 1 = 434.647, Excess of good 2 = -2498.187 with p₁ = 7.00 and p₂ = 3.00 \n",
      "\n",
      "Iteration no.     1: Excess of good 1 = 434.647, Excess of good 2 = -2498.187 with p₁ = 7.00 and p₂ = 2.98\n",
      "Iteration no.     2: Excess of good 1 = 309.407, Excess of good 2 = -2190.614 with p₁ = 7.01 and p₂ = 2.95\n",
      "Iteration no.     3: Excess of good 1 = 201.563, Excess of good 2 = -1919.756 with p₁ = 7.01 and p₂ = 2.93\n",
      "...\n",
      "Iteration no.   250: Excess of good of 1 = -57.575, Excess of good 2 = -21.507 with p₁ = 6.55 and p₂ = 2.64\n",
      "Iteration no.   500: Excess of good of 1 =  -5.897, Excess of good 2 =  -2.203 with p₁ = 6.49 and p₂ = 2.62\n",
      "Iteration no.   750: Excess of good of 1 =  -0.595, Excess of good 2 =  -0.222 with p₁ = 6.49 and p₂ = 2.62\n",
      "Iteration no.  1000: Excess of good of 1 =  -0.060, Excess of good 2 =  -0.022 with p₁ = 6.49 and p₂ = 2.62\n",
      "Iteration no.  1250: Excess of good of 1 =  -0.006, Excess of good 2 =  -0.002 with p₁ = 6.49 and p₂ = 2.62\n",
      "Iteration no.  1500: Excess of good of 1 =  -0.001, Excess of good 2 =  -0.000 with p₁ = 6.49 and p₂ = 2.62\n",
      "\n",
      "Prices in the Walrasian equilibrium are p₁ = 6.4860 and p₂ = 2.6172.\n",
      "\n",
      "Difference in p₁ compared to previues equilibrium: -0.0041\n",
      "Difference in p₂ compared to previues equilibrium:  0.0006\n"
     ]
    }
   ],
   "source": [
    "# Sets new set of endowments, equal to mean of each initial endowment\n",
    "e1_new = np.mean(e1) + np.zeros(N)\n",
    "e2_new = np.mean(e2) + np.zeros(N)\n",
    "e3_new = np.mean(e3) + np.zeros(N)\n",
    "\n",
    "p1_we_new, p2_we_new = tat(p1,p2,e1_new,e2_new,e3_new,betas) # Solves with the tâtonnement process\n",
    "\n",
    "p1_diff = (p1_we_new - p1_we)\n",
    "p2_diff = (p2_we_new - p2_we)\n",
    "\n",
    "print(f'\\nDifference in p\\u2081 compared to previues equilibrium: {p1_diff:.4f}')\n",
    "print(f'Difference in p\\u2082 compared to previues equilibrium:  {p2_diff:.4f}')"
   ]
  },
  {
   "cell_type": "markdown",
   "metadata": {},
   "source": [
    "Compared to the previous equilibrium, we see that the price of good 1 slightly decreases, while the price of good 2 slightly increases. Now, we plot the distribution of the utility values:"
   ]
  },
  {
   "cell_type": "code",
   "execution_count": 44,
   "metadata": {},
   "outputs": [
    {
     "data": {
      "application/vnd.jupyter.widget-view+json": {
       "model_id": "e1d199f9ee474946befece184e986cc2",
       "version_major": 2,
       "version_minor": 0
      },
      "text/plain": [
       "interactive(children=(FloatSlider(value=0.8, description='γ', max=1.5, min=0.5, step=0.05), Output()), _dom_cl…"
      ]
     },
     "metadata": {},
     "output_type": "display_data"
    },
    {
     "data": {
      "text/plain": [
       "<function __main__.fig(γ)>"
      ]
     },
     "execution_count": 44,
     "metadata": {},
     "output_type": "execute_result"
    }
   ],
   "source": [
    "def fig(𝛾):\n",
    "    # Calculates utilities\n",
    "    utility_new = util(p1_we_new, p2_we_new, e1_new, e2_new, e3_new, betas, 𝛾)\n",
    "    utility     = util(p1_we, p2_we, e1, e2, e3, betas, 𝛾)\n",
    "\n",
    "    mean_new = np.mean(utility_new)  # Calculates mean\n",
    "    var_new  = np.var(utility_new)   # Calculates variance\n",
    "    mean     = np.mean(utility)      # Calculates mean\n",
    "    var      = np.var(utility)       # Calculates mean\n",
    "\n",
    "    fig = plt.figure(figsize=(14,7)) # Initializes plot\n",
    "    \n",
    "    ax1 = fig.add_subplot(1,2,1)           # Initializes first subplot\n",
    "    ax1.hist(utility_new, bins=200, color=['blue']) # Plots the relevant series\n",
    "    ax1.set_title('a. Equally distributed endowments\\n', size=15) # Sets title and type size\n",
    "    ax1.set_xlabel('\\nValues', size=15)    # Labels x-axis and sets type size\n",
    "    ax1.set_ylabel('Consumers\\n', size=15) # Labels y-axis and sets type size\n",
    "    ax1.grid()                             # Adds grids\n",
    "    \n",
    "    ax2 = fig.add_subplot(1,2,2)           # Initializes second subplot\n",
    "    ax2.hist(utility, bins=200, color=['blue']) # Plots the relevant series\n",
    "    ax2.set_title('b. Exponentially distributed endowments\\n', size=15) # Sets title and type size\n",
    "    ax2.set_xlabel('\\nValues', size=15)    # Labels x-axis and sets type size\n",
    "    ax2.grid()                             # Adds grids\n",
    "    \n",
    "    plt.show()\n",
    "    \n",
    "    print(f'Panel a: The distribution has a mean of {mean_new:.3f} with variance of {var_new:.3f}.\\n')\n",
    "    print(f'Panel b: The distribution has a mean of {mean:.3f} with variance of {var:.3f}.')\n",
    "\n",
    "widgets.interact(fig,\n",
    "                𝛾 = widgets.FloatSlider(min=0.5, max=1.5, step=0.05, value=0.8))\n"
   ]
  },
  {
   "cell_type": "markdown",
   "metadata": {},
   "source": [
    "When endowments are equally distributed, the mean of the utilies hightens slightly, while the variance lowers significantly. Furthermore, when the 𝛾 parameter from the consumer $j$'s utility function increases, we see that the means and variances rise. For all 𝛾's, the mean of the equally distributed endowments remains higher, while its variance remains lower."
   ]
  }
 ],
 "metadata": {
  "kernelspec": {
   "display_name": "Python 3",
   "language": "python",
   "name": "python3"
  },
  "language_info": {
   "codemirror_mode": {
    "name": "ipython",
    "version": 3
   },
   "file_extension": ".py",
   "mimetype": "text/x-python",
   "name": "python",
   "nbconvert_exporter": "python",
   "pygments_lexer": "ipython3",
   "version": "3.7.1"
  },
  "toc-autonumbering": false
 },
 "nbformat": 4,
 "nbformat_minor": 2
}
