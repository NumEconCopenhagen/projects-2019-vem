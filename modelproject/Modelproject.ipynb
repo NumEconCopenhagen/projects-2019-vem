{
 "cells": [
  {
   "cell_type": "markdown",
   "metadata": {},
   "source": [
    "# Model Project by VEM"
   ]
  },
  {
   "cell_type": "markdown",
   "metadata": {},
   "source": [
    "## Import\n",
    "We begin by importing all the necessary packages."
   ]
  },
  {
   "cell_type": "code",
   "execution_count": 1,
   "metadata": {},
   "outputs": [
    {
     "name": "stdout",
     "output_type": "stream",
     "text": [
      "Packages successfully imported.\n"
     ]
    }
   ],
   "source": [
    "import numpy             as np\n",
    "import sympy             as sm\n",
    "import matplotlib.pyplot as plt\n",
    "import scipy.optimize    as opt\n",
    "import math\n",
    "import ipywidgets        as widgets\n",
    "\n",
    "from sympy.interactive import printing\n",
    "printing.init_printing(use_latex=True)\n",
    "\n",
    "print(\"Packages successfully imported.\")"
   ]
  },
  {
   "cell_type": "markdown",
   "metadata": {},
   "source": [
    "## Introduction\n",
    "In this project, we create a framework, which solves variations of the Solow model:\n",
    "\n",
    "* In part 1, we solve the General Solow Model.\n",
    "* In part 2, we solve the General Solow Model with Land.\n",
    "* In part 3, we solve the Solow Model with Human Capital."
   ]
  },
  {
   "cell_type": "markdown",
   "metadata": {},
   "source": [
    "# Part 1 - The General Solow Model"
   ]
  },
  {
   "cell_type": "markdown",
   "metadata": {},
   "source": [
    "In this setup, we have:\n",
    "\n",
    "- $K_t$ is capital\n",
    "* $Y_t$ is output\n",
    "* $L_t$ is labour, which evolves at the rate of *n*\n",
    "* $A_t$ is technology, which evolves at rate of *g*\n",
    "* $\\delta$ is the rate of depreciation\n",
    "* And *s* is the savings rate.\n",
    "\n",
    "The production function is:\n",
    "\n",
    "$Y_t=K_t^{\\alpha}L_t^{1-\\alpha}$\n",
    "\n",
    "And capital accumulates according to:\n",
    "\n",
    "$K_{t+1}=sY_t+(1-\\delta)K_t$\n",
    "\n",
    "Where the transition equation is:\n",
    "\n",
    "$\\tilde{k}_{t+1} = \\frac{1}{(1+n)(1+g)}(s \\tilde{k}_t^{\\alpha}+(1-\\delta)\\tilde{k}_t)$, where $\\tilde{k}_t = \\frac{K_t}{A_{t}L_{t}}$\n",
    "\n",
    "Finally, steady state of capital per effective worker:\n",
    "\n",
    "$\\tilde{k}^* = \\left(\\frac{s}{\\delta+n+g+ng}\\right)^\\frac{1}{1-\\alpha}$"
   ]
  },
  {
   "cell_type": "markdown",
   "metadata": {},
   "source": [
    "## Parameter specification\n",
    "Below, we firstly define the parameters of the model as sympy symbols. Secondly, we then specify a specific value for each of the parameters. These can be changed per request."
   ]
  },
  {
   "cell_type": "code",
   "execution_count": 2,
   "metadata": {},
   "outputs": [
    {
     "name": "stdout",
     "output_type": "stream",
     "text": [
      "Parameters successfully set.\n"
     ]
    }
   ],
   "source": [
    "# Defines parameters\n",
    "g     = sm.symbols('g')        # Growth of TFP\n",
    "n     = sm.symbols('n')        # Growth of population\n",
    "alpha = sm.symbols('alpha')    # Capital share\n",
    "delta = sm.symbols('delta')    # Rate of depreciation\n",
    "s     = sm.symbols('s')        # Savings rate\n",
    "k_ss  = sm.symbols('k_ss')     # Capital per effective worker in steady state, ss\n",
    "\n",
    "# Specifies parameter values\n",
    "g     = 0.02\n",
    "n     = 0.02\n",
    "alpha = 1/3\n",
    "delta = 0.05\n",
    "s     = 0.30\n",
    "\n",
    "print(\"Parameters successfully set.\")"
   ]
  },
  {
   "cell_type": "markdown",
   "metadata": {},
   "source": [
    "## Solution and simulation of steady state\n",
    "The steady state of capital per effective worker is defined as:\n",
    "\n",
    "$\\tilde{k}^* = \\left(\\frac{s}{\\delta+n+g+ng}\\right)^\\frac{1}{1-\\alpha}$\n",
    "\n",
    "We firstly solve this symbolically below."
   ]
  },
  {
   "cell_type": "code",
   "execution_count": 3,
   "metadata": {},
   "outputs": [
    {
     "name": "stdout",
     "output_type": "stream",
     "text": [
      "Symbolic method: Steady state of capital per effective worker:\n"
     ]
    },
    {
     "data": {
      "image/png": "[encoded data removed]",
      "text/latex": [
       "$$\\left \\{ k_{ss} : 3.50563627067423\\right \\}$$"
      ],
      "text/plain": [
       "{kₛₛ: 3.50563627067423}"
      ]
     },
     "execution_count": 3,
     "metadata": {},
     "output_type": "execute_result"
    }
   ],
   "source": [
    "# Steady state equation of k\n",
    "k_ss_symbolic = (s / (delta+n+g+(n+g)))**(1 / (1-alpha))         # Without Sympy\n",
    "\n",
    "k_ss_sym = sm.Eq(k_ss, (s / (delta+n+g+(n+g)))**(1 / (1-alpha))) # With Sympy\n",
    "k_ss_sol = sm.solve([k_ss_sym],[k_ss]) # Solves\n",
    "\n",
    "print(f'Symbolic method: Steady state of capital per effective worker:')\n",
    "k_ss_sol"
   ]
  },
  {
   "cell_type": "markdown",
   "metadata": {},
   "source": [
    "We now solve the capital per effective worker through a simple bisection procedure, i.e. solve the function:\n",
    "\n",
    "$\\tilde{k}^* - \\left(\\frac{s}{\\delta+n+g+ng}\\right)^\\frac{1}{1-\\alpha}$ = 0\n",
    "\n",
    "And then compare it to the symbolic solution above."
   ]
  },
  {
   "cell_type": "code",
   "execution_count": 4,
   "metadata": {},
   "outputs": [
    {
     "name": "stdout",
     "output_type": "stream",
     "text": [
      "Comparison of solution methods:\n",
      "\n",
      "Symbolic:  Steady state of capital per effective worker: 3.5056363\n",
      "Numerical: Steady state of capital per effective worker: 3.5056363\n"
     ]
    }
   ],
   "source": [
    "# Solves the function, f = 0 \n",
    "\n",
    "f = lambda k_ss_num: k_ss_num - (s / (delta+n+g+(n+g)))**(1 / (1-alpha))\n",
    "\n",
    "def bisection(f,a,b,tol=1e-8):\n",
    "\n",
    "    # Test inputs\n",
    "    if f(a) * f(b) >= 0:\n",
    "        print(\"Bisection method fails.\")\n",
    "        return None\n",
    "    \n",
    "    # Step 1: Initializes\n",
    "    a_n = a\n",
    "    b_n = b\n",
    "    \n",
    "    # Step 2-4:\n",
    "    while True:\n",
    "        \n",
    "        # Step 2: Midpoint and associated value\n",
    "        m_n   = (a_n+b_n)/2\n",
    "        f_m_n = f(m_n)\n",
    "        \n",
    "        # Step 3: Determine sub-interval\n",
    "        if abs(f_m_n) < tol:\n",
    "            return m_n\n",
    "        elif f(a_n)*f_m_n < 0:\n",
    "            a_n = a_n\n",
    "            b_n = m_n\n",
    "        elif f(b_n)*f_m_n < 0:\n",
    "            a_n = m_n\n",
    "            b_n = b_n\n",
    "        else:\n",
    "            print(\"Bisection method fails.\")\n",
    "            return None\n",
    "        \n",
    "    return (a_n + b_n)/2\n",
    "\n",
    "k_ss = bisection(f,0,100,1e-8)\n",
    "\n",
    "print('Comparison of solution methods:')\n",
    "print('')\n",
    "print(f'Symbolic:  Steady state of capital per effective worker: {k_ss_symbolic:.7f}')\n",
    "print(f'Numerical: Steady state of capital per effective worker: {k_ss:.7f}')"
   ]
  },
  {
   "cell_type": "markdown",
   "metadata": {},
   "source": [
    "Here, we see that the solution methods are equivalent. \n",
    "\n",
    "Through the creation of an auxiliary equation, *$aux$*, we now simulate the equilibrium path of the economy. This equation is taken from *\"Introducing Advanced Macroeconomics - Growth and Business Cycles\"* by Birch Sørensen and Whitta Jacobsen (2009)."
   ]
  },
  {
   "cell_type": "code",
   "execution_count": 5,
   "metadata": {},
   "outputs": [
    {
     "name": "stdout",
     "output_type": "stream",
     "text": [
      "Simulation ran successfully.\n"
     ]
    }
   ],
   "source": [
    "def aux(x,g,n,s,alpha,delta):\n",
    "    aux = (1/((1+g)*(1+n)))*((s*(x/((1+g)*(1+n)))**alpha) + ((1-delta)*(x/((1+g)*(1+n)))))\n",
    "    return aux\n",
    "\n",
    "print(\"Simulation ran successfully.\")"
   ]
  },
  {
   "cell_type": "markdown",
   "metadata": {},
   "source": [
    "## Plotting the transition diagram\n",
    "Lastly, we plot the transition of capital per effective worker in a standard transition diagram."
   ]
  },
  {
   "cell_type": "code",
   "execution_count": 6,
   "metadata": {},
   "outputs": [
    {
     "data": {
      "image/png": "[encoded data removed]",
      "text/plain": [
       "<Figure size 720x504 with 1 Axes>"
      ]
     },
     "metadata": {
      "needs_background": "light"
     },
     "output_type": "display_data"
    }
   ],
   "source": [
    "kmin  = 0                             # Minimum x-value of the plot\n",
    "kmax  = k_ss*1.3                      # Maximum x-value of the plot\n",
    "k_set = np.linspace(kmin, kmax, 1000) # Boundaries of x- and y-axis\n",
    "\n",
    "phase = plt.figure(figsize=(10,7))    # Defines the phase diagram\n",
    "plt.plot(k_set, aux(k_set,g,n,s,alpha,delta), 'b-', # Plots transition line\n",
    "         k_set, k_set, 'r--',         # 45-degree line\n",
    "         k_ss, k_ss,   'go')          # Plots point of steady state\n",
    "plt.xlabel('\\n$k_{t}$',   size=15)    # Labels x-axis\n",
    "plt.ylabel('$k_{t+1}$\\n', size=15)    # Labels y-axis\n",
    "plt.title('Transition diagram\\n', size=22) # Sets title and type size\n",
    "plt.legend(('Transition','45 degree line'),\n",
    "           loc='upper left')          # Creates legend\n",
    "\n",
    "plt.show()"
   ]
  },
  {
   "cell_type": "markdown",
   "metadata": {},
   "source": [
    "Which clearly shows the unique steady state of the model given the parameter values."
   ]
  },
  {
   "cell_type": "markdown",
   "metadata": {},
   "source": [
    "Finally, we plot an interactive transition diagram containing a slider for each of the parameters."
   ]
  },
  {
   "cell_type": "code",
   "execution_count": 7,
   "metadata": {},
   "outputs": [
    {
     "data": {
      "application/vnd.jupyter.widget-view+json": {
       "model_id": "b73069c8d8b540549442d4da2ffadc0c",
       "version_major": 2,
       "version_minor": 0
      },
      "text/plain": [
       "interactive(children=(FloatSlider(value=0.02, description='g', max=1.0, step=0.01), FloatSlider(value=0.02, de…"
      ]
     },
     "metadata": {},
     "output_type": "display_data"
    },
    {
     "data": {
      "text/plain": [
       "<function __main__.Transition(g, n, delta, s, alpha)>"
      ]
     },
     "execution_count": 7,
     "metadata": {},
     "output_type": "execute_result"
    }
   ],
   "source": [
    "kmin  = 0                              # Minimum x-value of the plot\n",
    "kmax  = k_ss*100                       # Maximum x-value of the plot\n",
    "k_set = np.linspace(kmin, kmax, 10000) # Boundaries of x- and y-axis\n",
    "\n",
    "def Transition(g,n,delta,s,alpha):\n",
    "    \n",
    "    plt.figure(figsize=(10,7))                           # Defines figure size\n",
    "    k_ss = (s / (delta+n+g+(n+g)))**(1 / (1-alpha))      # Defines function\n",
    "    plt.xlim(0, k_ss*1.3)                                # Defines limits\n",
    "    plt.ylim(0, k_ss*1.3)                                # Defines limits\n",
    "    plt.locator_params(which='x', tight=True, nbins=10)  # Locates sliders\n",
    "    plt.xlabel('\\n$k_{t}$',   size=15)                   # Labels x-axis\n",
    "    plt.ylabel('$k_{t+1}$\\n', size=15)                   # Labels y-axis\n",
    "    plt.plot(k_set,aux(k_set,g,n,s,alpha,delta), '-b'),  # Plots\n",
    "    plt.plot(k_set,k_set, '--r')                         # Plots\n",
    "    plt.title('Transition diagram\\n', size=22)           # Creates title\n",
    "    plt.legend(('Transition','45 degree line'),\n",
    "           loc='upper left')                             # Creates legend\n",
    "    return print(f'The steady state for capital per effective worker is: {k_ss:.2f}')\n",
    "\n",
    "widgets.interact(Transition,                             # Defines slider\n",
    "                 s     = widgets.FloatSlider(min=0,max=1,step=0.01,value=0.3),\n",
    "                 n     = widgets.FloatSlider(min=0,max=0.3,step=0.01,value=0.02),\n",
    "                 alpha = widgets.FloatSlider(min=0,max=2/3,step=0.01,value=1/3),\n",
    "                 g     = widgets.FloatSlider(min=0,max=1,step=0.01,value=0.02),\n",
    "                 delta = widgets.FloatSlider(min=0,max=1,step=0.01,value=0.05))"
   ]
  },
  {
   "cell_type": "markdown",
   "metadata": {},
   "source": [
    "# Part 2 - The General Solow Model with Land\n",
    "With the extension of land, we now have the following production function:\n",
    "\n",
    "$Y_t=K_t^{\\alpha}{(A_t L_t)^\\beta}X^\\kappa$\n",
    "\n",
    "Where $X$ has no time subscript, since land is in fixed supply."
   ]
  },
  {
   "cell_type": "markdown",
   "metadata": {},
   "source": [
    "## Parameter specification\n",
    "We now define the new parameters."
   ]
  },
  {
   "cell_type": "code",
   "execution_count": 8,
   "metadata": {},
   "outputs": [
    {
     "name": "stdout",
     "output_type": "stream",
     "text": [
      "Parameters successfully set.\n"
     ]
    }
   ],
   "source": [
    "# Defines new parameters\n",
    "beta  = sm.symbols('beta')  # Labour share\n",
    "kappa = sm.symbols('kappa') # Land share\n",
    "z_ss  = sm.symbols('z_ss')\n",
    "\n",
    "# Specifies parameter values\n",
    "beta  = 1/3\n",
    "kappa = 1-alpha-beta\n",
    "\n",
    "print(\"Parameters successfully set.\")"
   ]
  },
  {
   "cell_type": "markdown",
   "metadata": {},
   "source": [
    "## Solution and simulation of steady state\n",
    "\n",
    "Instead of solving this model in terms of capital per effective worker, we solve it in terms of capital-output ratio, $z_t$. Here, the steady state of $z^*$ is given by:\n",
    "\n",
    "$z^* = \\left(\\frac{s}{[(1+n)(1+g)]^\\frac{\\beta}{\\beta+\\kappa}-(1-\\delta)}\\right) > 0$\n",
    "\n",
    "Again, we do this symbolic first."
   ]
  },
  {
   "cell_type": "code",
   "execution_count": 9,
   "metadata": {},
   "outputs": [
    {
     "name": "stdout",
     "output_type": "stream",
     "text": [
      "Symbolic method: Steady state of capital-output ratio:\n"
     ]
    },
    {
     "data": {
      "image/png": "[encoded data removed]",
      "text/latex": [
       "$$\\left \\{ z_{ss} : 4.28571428571429\\right \\}$$"
      ],
      "text/plain": [
       "{zₛₛ: 4.28571428571429}"
      ]
     },
     "execution_count": 9,
     "metadata": {},
     "output_type": "execute_result"
    }
   ],
   "source": [
    "# Steady state equation of z\n",
    "z_ss_symbolic = (s / (((1+n)*(1+g))**(beta / (beta+kappa))-(1-delta)))       # Without Sympy\n",
    "\n",
    "z_ss_sm  = sm.Eq(z_ss, s / (((1+n)*(1+g))**(beta / (beta+kappa))-(1-delta))) # With Sympy\n",
    "z_ss_sol = sm.solve([z_ss_sm],[z_ss]) # Solves\n",
    "\n",
    "print(f'Symbolic method: Steady state of capital-output ratio:')\n",
    "z_ss_sol"
   ]
  },
  {
   "cell_type": "markdown",
   "metadata": {},
   "source": [
    "And now with bisection, where we solve:\n",
    "\n",
    "$z^* - \\left(\\frac{s}{[(1+n)(1+g)]^\\frac{\\beta}{\\beta+\\kappa}-(1-\\delta)}\\right) = 0$"
   ]
  },
  {
   "cell_type": "code",
   "execution_count": 10,
   "metadata": {},
   "outputs": [
    {
     "name": "stdout",
     "output_type": "stream",
     "text": [
      "Comparison of solution methods:\n",
      "\n",
      "Symbolic:  Steady state of capital-output ratio: 4.2857143\n",
      "Numerical: Steady state of capital-output ratio: 4.2857143\n"
     ]
    }
   ],
   "source": [
    "# Solves the function, f = 0 \n",
    "\n",
    "f = lambda z_ss: z_ss - (s / (((1+n)*(1+g))**(beta / (beta+kappa))-(1-delta))) \n",
    "\n",
    "def bisection(f,a,b,tol=1e-8):\n",
    "\n",
    "    # Test inputs\n",
    "    if f(a) * f(b) >= 0:\n",
    "        print(\"Bisection method fails.\")\n",
    "        return None\n",
    "    \n",
    "    # Step 1: Initializes\n",
    "    a_n = a\n",
    "    b_n = b\n",
    "    \n",
    "    # Step 2-4:\n",
    "    while True:\n",
    "        \n",
    "        # Step 2: Midpoint and associated value\n",
    "        m_n   = (a_n+b_n)/2\n",
    "        f_m_n = f(m_n)\n",
    "        \n",
    "        # Step 3: Determine sub-interval\n",
    "        if abs(f_m_n) < tol:\n",
    "            return m_n\n",
    "        elif f(a_n)*f_m_n < 0:\n",
    "            a_n = a_n\n",
    "            b_n = m_n\n",
    "        elif f(b_n)*f_m_n < 0:\n",
    "            a_n = m_n\n",
    "            b_n = b_n\n",
    "        else:\n",
    "            print(\"Bisection method fails.\")\n",
    "            return None\n",
    "        \n",
    "    return (a_n + b_n)/2\n",
    "\n",
    "z_ss = bisection(f,0,100,1e-8)\n",
    "\n",
    "print('Comparison of solution methods:')\n",
    "print('')\n",
    "print(f'Symbolic:  Steady state of capital-output ratio: {z_ss_symbolic:.7f}')\n",
    "print(f'Numerical: Steady state of capital-output ratio: {z_ss:.7f}')"
   ]
  },
  {
   "cell_type": "markdown",
   "metadata": {},
   "source": [
    "Again, we see that the solution methods are equivalent.\n",
    "\n",
    "Through the creation of an auxiliary equation, *$aux_z$*, we now simulate the equilibrium path of the economy. Again, this is with reference to Birch Sørensen and Whitta Jacobsen (2009)."
   ]
  },
  {
   "cell_type": "code",
   "execution_count": 11,
   "metadata": {},
   "outputs": [
    {
     "name": "stdout",
     "output_type": "stream",
     "text": [
      "Simulation ran successfully.\n"
     ]
    }
   ],
   "source": [
    "def aux_z(z,g,n,s,alpha,delta,beta):\n",
    "    aux_z = (1/((1+g)*(1+n)))**beta*(((s+(1-delta)*z)**(1-alpha))*z**alpha)\n",
    "    return aux_z\n",
    "    \n",
    "print(\"Simulation ran successfully.\")"
   ]
  },
  {
   "cell_type": "markdown",
   "metadata": {},
   "source": [
    "## Plotting the transition diagram\n",
    "Lastly, we plot the transition of the capital-output ratio in a standard transition diagram."
   ]
  },
  {
   "cell_type": "code",
   "execution_count": 12,
   "metadata": {},
   "outputs": [
    {
     "data": {
      "image/png": "[encoded data removed]",
      "text/plain": [
       "<Figure size 720x504 with 1 Axes>"
      ]
     },
     "metadata": {
      "needs_background": "light"
     },
     "output_type": "display_data"
    }
   ],
   "source": [
    "zmin  = 0                             # Minimum x-value of the plot\n",
    "zmax  = z_ss*1.3                      # Maximum x-value of the plot\n",
    "z_set = np.linspace(zmin, zmax, 1000) # Boundaries of x- and y-axis\n",
    "\n",
    "phase = plt.figure(figsize=(10,7))    # Defines the phase diagram\n",
    "plt.plot(z_set, aux_z(z_set,g,n,s,alpha,delta,beta), 'b-', # Plots transition line\n",
    "         z_set, z_set,     'r--',     # 45-degree line\n",
    "         z_ss, z_ss,       'go')      # Plots point of steady state\n",
    "plt.xlabel('\\n$z_{t}$',   size=15)    # Labels x-axis\n",
    "plt.ylabel('$z_{t+1}$\\n', size=15)    # Labels y-axis\n",
    "plt.title('Transition diagram\\n', size=22) # Sets title and type size\n",
    "plt.legend(('Transition','45 degree line'),\n",
    "           loc='upper left')          # Creates legend\n",
    "\n",
    "plt.show()"
   ]
  },
  {
   "cell_type": "markdown",
   "metadata": {},
   "source": [
    "Which clearly shows the unique steady state of the model given the parameter values."
   ]
  },
  {
   "cell_type": "markdown",
   "metadata": {},
   "source": [
    "Finally, we plot an interactive phase diagram containing a slider for each of the parameters."
   ]
  },
  {
   "cell_type": "code",
   "execution_count": 13,
   "metadata": {},
   "outputs": [
    {
     "data": {
      "application/vnd.jupyter.widget-view+json": {
       "model_id": "8c2e3f10235b481991576156f9466ef0",
       "version_major": 2,
       "version_minor": 0
      },
      "text/plain": [
       "interactive(children=(FloatSlider(value=0.02, description='g', max=1.0, step=0.01), FloatSlider(value=0.02, de…"
      ]
     },
     "metadata": {},
     "output_type": "display_data"
    },
    {
     "data": {
      "text/plain": [
       "<function __main__.Transition(g, n, delta, s, alpha, beta)>"
      ]
     },
     "execution_count": 13,
     "metadata": {},
     "output_type": "execute_result"
    }
   ],
   "source": [
    "zmin  = 0                              # Minimum x-value of the plot\n",
    "zmax  = z_ss*100                       # Maximum x-value of the plot\n",
    "z_set = np.linspace(zmin, zmax, 10000) # Boundaries of x- and y-axis\n",
    "\n",
    "def Transition(g,n,delta,s,alpha,beta):\n",
    "    plt.figure(figsize=(10,7))                                  # Defines figure size\n",
    "    z_ss = (s/(((1+n)*(1+g))**(beta / (beta+kappa))-(1-delta))) # Defines function\n",
    "    plt.xlim(0, z_ss*1.3)                                       # Defines limits\n",
    "    plt.ylim(0, z_ss*1.3)                                       # Defines limits\n",
    "    plt.locator_params(which='x', tight=True, nbins=10)         # Locates sliders\n",
    "    plt.xlabel('\\n$z_{t}$',   size=15)                          # Labels x-axis\n",
    "    plt.ylabel('$z_{t+1}$\\n', size=15)                          # Labels y-axis\n",
    "    plt.plot(z_set,aux_z(z_set,g,n,s,alpha,delta,beta), '-b')   # Plots\n",
    "    plt.plot(z_set,z_set, '--r')                                # Plots 45-degree line\n",
    "    plt.title('Transition diagram\\n', size=22)                  # Creates title\n",
    "    plt.legend(('Transition','45 degree line'),\n",
    "           loc='upper left')                                    # Creates legend\n",
    "    return print(f'The steady state for capital-output ratio is: {z_ss:.2f}')\n",
    "\n",
    "widgets.interact(Transition,                                    # Defines slider\n",
    "                 beta  = widgets.FloatSlider(min=0,max=2/3,step=0.01,value=1/3),\n",
    "                 alpha = widgets.FloatSlider(min=0,max=2/3,step=0.01,value=1/3),\n",
    "                 s     = widgets.FloatSlider(min=0,max=1,step=0.01,value=0.3),\n",
    "                 n     = widgets.FloatSlider(min=0,max=0.3,step=0.01,value=0.02),\n",
    "                 g     = widgets.FloatSlider(min=0,max=1,step=0.01,value=0.02),\n",
    "                 delta = widgets.FloatSlider(min=0,max=1,step=0.01,value=0.05))"
   ]
  },
  {
   "cell_type": "markdown",
   "metadata": {},
   "source": [
    "# Part 3 - The Solow Model with Human Capital\n",
    "With the extension of human capital, we now have the following production function:\n",
    "\n",
    "$Y_t=K_t^{\\alpha}H_t^{\\phi}{(A_t L_t)}^{1-\\alpha-\\phi}$"
   ]
  },
  {
   "cell_type": "markdown",
   "metadata": {},
   "source": [
    "## Parameter specification\n",
    "We now define the new parameters."
   ]
  },
  {
   "cell_type": "code",
   "execution_count": 14,
   "metadata": {},
   "outputs": [
    {
     "name": "stdout",
     "output_type": "stream",
     "text": [
      "Parameters successfully set.\n"
     ]
    }
   ],
   "source": [
    "# Defines parameters\n",
    "phi   = sm.symbols('phi') \n",
    "s_k   = sm.symbols('s_k')\n",
    "s_h   = sm.symbols('s_h')\n",
    "k1_ss = sm.symbols('k1_ss')\n",
    "h_ss  = sm.symbols('h_ss')\n",
    "\n",
    "# Specifies parameter values\n",
    "phi = 1/3\n",
    "s_k = 0.2\n",
    "s_h = 0.15\n",
    "\n",
    "print(\"Parameters successfully set.\")"
   ]
  },
  {
   "cell_type": "markdown",
   "metadata": {},
   "source": [
    "## Solution and simulation of steady state\n",
    "\n",
    "This time, we solve the model in terms of capital and human capital per effective worker, $k_t$ and $h_t$, respectively. These are given by:\n",
    "\n",
    "$\\tilde{k}^* = \\left(\\frac{s_k^{1-\\phi} s_h^\\phi}{n+g+\\delta+ng}\\right)^{\\frac{1}{1-\\alpha-\\phi}}$\n",
    "\n",
    "$\\tilde{h}^* = \\left(\\frac{s_k^{\\alpha} s_h^{1-\\alpha}}{n+g+\\delta+ng}\\right)^{\\frac{1}{1-\\alpha-\\phi}}$\n",
    "\n",
    "Again, we do this symbolic first."
   ]
  },
  {
   "cell_type": "code",
   "execution_count": 15,
   "metadata": {},
   "outputs": [
    {
     "name": "stdout",
     "output_type": "stream",
     "text": [
      "Symbolic method: Steady state of capital and human capital:\n"
     ]
    },
    {
     "data": {
      "image/png": "[encoded data removed]",
      "text/latex": [
       "$$\\left ( \\left \\{ k_{1 ss} : 8.12168158919174\\right \\}, \\quad \\left \\{ h_{ss} : 6.09126119189381\\right \\}\\right )$$"
      ],
      "text/plain": [
       "({k₁ ₛₛ: 8.12168158919174}, {hₛₛ: 6.09126119189381})"
      ]
     },
     "execution_count": 15,
     "metadata": {},
     "output_type": "execute_result"
    }
   ],
   "source": [
    "# Steady state equation of capital\n",
    "k1_ss_symbolic = ((s_k**(1-phi)*s_h**phi) / (n+g+delta+(n*g)))**(1/(1-alpha-phi))           # Without Sumpy\n",
    "\n",
    "k1_ss_sm = sm.Eq(k1_ss, ((s_k**(1-phi)*s_h**phi) / (n+g+delta+(n*g)))**(1/(1-alpha-phi)))   # With Sumpy\n",
    "k1_ss_sol = sm.solve([k1_ss_sm],[k1_ss]) # Solves\n",
    "\n",
    "\n",
    "# Steady state equation of human capital\n",
    "h_ss_symbolic = ((s_k**alpha*s_h**(1-alpha)) / (n+g+delta+(n*g)))**(1/(1-alpha-phi))        # Without Sumpy\n",
    "\n",
    "h_ss_sm = sm.Eq(h_ss, ((s_k**alpha*s_h**(1-alpha)) / (n+g+delta+(n*g)))**(1/(1-alpha-phi))) # With Sumpy\n",
    "h_ss_sol = sm.solve([h_ss_sm],[h_ss]) # Solves\n",
    "\n",
    "print('Symbolic method: Steady state of capital and human capital:')\n",
    "k1_ss_sol, h_ss_sol"
   ]
  },
  {
   "cell_type": "markdown",
   "metadata": {},
   "source": [
    "And now with bisection, where we solve:\n",
    "\n",
    "$\\tilde{k}^* - \\left(\\frac{s_k^{1-\\phi} s_h^\\phi}{n+g+\\delta+ng}\\right)^{\\frac{1}{1-\\alpha-\\phi}} = 0$\n",
    "\n",
    "And:\n",
    "\n",
    "$\\tilde{h}^* - \\left(\\frac{s_k^{\\alpha} s_h^{1-\\alpha}}{n+g+\\delta+ng}\\right)^{\\frac{1}{1-\\alpha-\\phi}} = 0$\n",
    "\n",
    "Respectively."
   ]
  },
  {
   "cell_type": "code",
   "execution_count": 16,
   "metadata": {},
   "outputs": [
    {
     "name": "stdout",
     "output_type": "stream",
     "text": [
      "Comparison of solution methods:\n",
      "\n",
      "Symbolic:  Steady state of capital per effective worker: 8.1216816\n",
      "Numerical: Steady state of capital per effective worker: 8.1216816\n",
      "\n",
      "Symbolic:  Steady state of capital per effective worker: 6.0912612\n",
      "Numerical: Steady state of capital per effective worker: 6.0912612\n"
     ]
    }
   ],
   "source": [
    "f = lambda k_ss: k_ss - ((s_k**(1-phi)*s_h**phi) / (n+g+delta+(n*g)))**(1/(1-alpha-phi)) \n",
    "h = lambda h_ss: h_ss - ((s_k**alpha*s_h**(1-alpha)) / (n+g+delta+(n*g)))**(1/(1-alpha-phi)) \n",
    "\n",
    "def bisection(f,a,b,tol=1e-8):\n",
    "\n",
    "    # Test inputs\n",
    "    if f(a) * f(b) >= 0:\n",
    "        print(\"Bisection method fails.\")\n",
    "        return None\n",
    "    \n",
    "    # Step 1: Initializes\n",
    "    a_n = a\n",
    "    b_n = b\n",
    "    \n",
    "    # Step 2-4:\n",
    "    while True:\n",
    "        \n",
    "        # Step 2: Midpoint and associated value\n",
    "        m_n   = (a_n+b_n)/2\n",
    "        f_m_n = f(m_n)\n",
    "        \n",
    "        # Step 3: Determine sub-interval\n",
    "        if abs(f_m_n) < tol:\n",
    "            return m_n\n",
    "        elif f(a_n)*f_m_n < 0:\n",
    "            a_n = a_n\n",
    "            b_n = m_n\n",
    "        elif f(b_n)*f_m_n < 0:\n",
    "            a_n = m_n\n",
    "            b_n = b_n\n",
    "        else:\n",
    "            print(\"Bisection method fails.\")\n",
    "            return None\n",
    "        \n",
    "    return (a_n + b_n)/2\n",
    "\n",
    "k1_ss = bisection(f,0,100,1e-8)\n",
    "\n",
    "print('Comparison of solution methods:')\n",
    "print('')\n",
    "print(f'Symbolic:  Steady state of capital per effective worker: {k1_ss_symbolic:.7f}')\n",
    "print(f'Numerical: Steady state of capital per effective worker: {k1_ss:.7f}')\n",
    "\n",
    "def bisection(h,a,b,tol=1e-8):\n",
    "\n",
    "    # Test inputs\n",
    "    if h(a) * h(b) >= 0:\n",
    "        print(\"Bisection method fails.\")\n",
    "        return None\n",
    "    \n",
    "    # Step 1: Initializes\n",
    "    a_n = a\n",
    "    b_n = b\n",
    "    \n",
    "    # Step 2-4:\n",
    "    while True:\n",
    "        \n",
    "        # Step 2: Midpoint and associated value\n",
    "        m_n   = (a_n+b_n)/2\n",
    "        h_m_n = h(m_n)\n",
    "        \n",
    "        # Step 3: Determine sub-interval\n",
    "        if abs(h_m_n) < tol:\n",
    "            return m_n\n",
    "        elif h(a_n)*h_m_n < 0:\n",
    "            a_n = a_n\n",
    "            b_n = m_n\n",
    "        elif h(b_n)*h_m_n < 0:\n",
    "            a_n = m_n\n",
    "            b_n = b_n\n",
    "        else:\n",
    "            print(\"Bisection method fails.\")\n",
    "            return None\n",
    "        \n",
    "    return (a_n + b_n)/2\n",
    "\n",
    "h_ss = bisection(h,0,100,1e-8)\n",
    "\n",
    "print('')\n",
    "print(f'Symbolic:  Steady state of capital per effective worker: {h_ss_symbolic:.7f}')\n",
    "print(f'Numerical: Steady state of capital per effective worker: {h_ss:.7f}')"
   ]
  },
  {
   "cell_type": "markdown",
   "metadata": {},
   "source": [
    "Again, we see that the solution methods are equivalent.\n",
    "\n",
    "Through the creation of an auxiliary equation, *$aux_k$* and *$aux_h$*, respectively, we now simulate the equilibrium path of the economy. This is - again - with reference to Birch Sørensen and Whitta Jacobsen (2009)."
   ]
  },
  {
   "cell_type": "code",
   "execution_count": 17,
   "metadata": {},
   "outputs": [],
   "source": [
    "def aux_k(x,g,n,s_k,s_h,alpha,delta,phi):\n",
    "    aux_k = ((n+g+delta+(n*g))/s_k)**(1/phi)*x**((1-alpha)/phi)\n",
    "    return aux_k\n",
    "\n",
    "def aux_h(x,g,n,s_k,s_h,alpha,delta,phi):\n",
    "    aux_h = (s_h/(n+g+delta+(n*g)))**(1/(1-phi))*x**(alpha/(1-phi))\n",
    "    return aux_h"
   ]
  },
  {
   "cell_type": "markdown",
   "metadata": {},
   "source": [
    "## Plotting the transition diagram\n",
    "Lastly, we plot the transition of capital and human capital in a standard transition diagram."
   ]
  },
  {
   "cell_type": "code",
   "execution_count": 18,
   "metadata": {
    "scrolled": false
   },
   "outputs": [
    {
     "data": {
      "image/png": "[encoded data removed]",
      "text/plain": [
       "<Figure size 720x504 with 1 Axes>"
      ]
     },
     "metadata": {
      "needs_background": "light"
     },
     "output_type": "display_data"
    }
   ],
   "source": [
    "hmin  = 0                                  # Minimum x-value of the plot\n",
    "hmax  = max(h_ss*1.2, k1_ss*1.2)           # Maximum x-value of the plot\n",
    "h_set = np.linspace(hmin, hmax, 1000)      # Boundaries of x- and y-axis\n",
    "\n",
    "k1min  = 0                                 # Minimum x-value of the plot\n",
    "k1max  = max(h_ss*1.2, k1_ss*1.2)          # Maximum x-value of the plot\n",
    "k1_set = np.linspace(k1min, k1max, 1000)   # Boundaries of x- and y-axis\n",
    "\n",
    "phase = plt.figure(figsize=(10,7))         # Defines figure size\n",
    "\n",
    "plt.xlim(0, k1max)                         # Define limits\n",
    "plt.ylim(0, hmax)                          # Define limits\n",
    "plt.plot(k1_set, aux_k(k1_set,g,n,s_k,s_h,alpha,delta,phi), 'b-', # Plots transition line\n",
    "         h_set, aux_h(k1_set,g,n,s_k,s_h,alpha,delta,phi), 'r-',\n",
    "        k1_ss_symbolic, h_ss_symbolic, 'go')                      # Plots point of steady state\n",
    "plt.xlabel('\\n$k_{t}$',   size=15)         # Labels x-axis\n",
    "plt.ylabel('$h_{t}$\\n', size=15)           # Labels y-axis\n",
    "plt.title('Transition diagram\\n', size=22) # Sets title and type size\n",
    "plt.legend(('Transition of capital','Transition of human capital'),\n",
    "           loc='upper left')               # Creates legend\n",
    "\n",
    "plt.show()"
   ]
  },
  {
   "cell_type": "markdown",
   "metadata": {},
   "source": [
    "Which clearly shows the unique steady state of the model given the parameter values."
   ]
  },
  {
   "cell_type": "markdown",
   "metadata": {},
   "source": [
    "## Conclusion\n",
    "In this data project, we created a framework, which solves three variants of the Solow Model and plots the transition to each of the unique steady states. For each model, one can choose any given set of parameters for the model to be solved. In part 1 and 2 (the General Solow Model and the General Solow Model with Land), every parameter of the models can be altered interactively using the sliders and the immediate results hereof can be seen."
   ]
  }
 ],
 "metadata": {
  "kernelspec": {
   "display_name": "Python 3",
   "language": "python",
   "name": "python3"
  },
  "language_info": {
   "codemirror_mode": {
    "name": "ipython",
    "version": 3
   },
   "file_extension": ".py",
   "mimetype": "text/x-python",
   "name": "python",
   "nbconvert_exporter": "python",
   "pygments_lexer": "ipython3",
   "version": "3.7.1"
  }
 },
 "nbformat": 4,
 "nbformat_minor": 2
}
