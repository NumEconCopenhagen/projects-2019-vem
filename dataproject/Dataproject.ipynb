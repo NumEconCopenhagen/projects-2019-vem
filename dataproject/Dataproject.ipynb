{
 "cells": [
  {
   "cell_type": "markdown",
   "metadata": {},
   "source": [
    "# Data Project by VEM"
   ]
  },
  {
   "cell_type": "markdown",
   "metadata": {},
   "source": [
    "## Introduction\n",
    "In this project, we aim to create an easy and inituitive way of fetching data from Statistics Denmark, which can be presented in a nice and interactive plot. The user will be able to conduct moving average calculations on raw data and immediately see the results hereof. Hence, this project is suitable for volatile data, e.g. affected by seasonally factors."
   ]
  },
  {
   "cell_type": "markdown",
   "metadata": {},
   "source": [
    "## Import\n",
    "We begin by importing all the necessary packages.\n",
    "In order to properly install the PyDST package below, the first line of code is necessary."
   ]
  },
  {
   "cell_type": "code",
   "execution_count": 1,
   "metadata": {},
   "outputs": [
    {
     "name": "stdout",
     "output_type": "stream",
     "text": [
      "Collecting git+https://github.com/elben10/pydst\n",
      "  Cloning https://github.com/elben10/pydst to c:\\users\\emilha~1\\appdata\\local\\temp\\pip-req-build-mlbgfg1k\n",
      "Requirement already satisfied (use --upgrade to upgrade): pydst==0.1.0.9000 from git+https://github.com/elben10/pydst in c:\\users\\emil hansen\\anaconda3\\lib\\site-packages\n",
      "Requirement already satisfied: pandas==0.23.4 in c:\\users\\emil hansen\\anaconda3\\lib\\site-packages (from pydst==0.1.0.9000) (0.23.4)\n",
      "Requirement already satisfied: cerberus==1.2 in c:\\users\\emil hansen\\anaconda3\\lib\\site-packages (from pydst==0.1.0.9000) (1.2)\n",
      "Requirement already satisfied: requests==2.21.0 in c:\\users\\emil hansen\\anaconda3\\lib\\site-packages (from pydst==0.1.0.9000) (2.21.0)\n",
      "Requirement already satisfied: python-dateutil>=2.5.0 in c:\\users\\emil hansen\\anaconda3\\lib\\site-packages (from pandas==0.23.4->pydst==0.1.0.9000) (2.7.5)\n",
      "Requirement already satisfied: pytz>=2011k in c:\\users\\emil hansen\\anaconda3\\lib\\site-packages (from pandas==0.23.4->pydst==0.1.0.9000) (2018.7)\n",
      "Requirement already satisfied: numpy>=1.9.0 in c:\\users\\emil hansen\\anaconda3\\lib\\site-packages (from pandas==0.23.4->pydst==0.1.0.9000) (1.15.4)\n",
      "Requirement already satisfied: chardet<3.1.0,>=3.0.2 in c:\\users\\emil hansen\\anaconda3\\lib\\site-packages (from requests==2.21.0->pydst==0.1.0.9000) (3.0.4)\n",
      "Requirement already satisfied: certifi>=2017.4.17 in c:\\users\\emil hansen\\anaconda3\\lib\\site-packages (from requests==2.21.0->pydst==0.1.0.9000) (2018.11.29)\n",
      "Requirement already satisfied: idna<2.9,>=2.5 in c:\\users\\emil hansen\\anaconda3\\lib\\site-packages (from requests==2.21.0->pydst==0.1.0.9000) (2.8)\n",
      "Requirement already satisfied: urllib3<1.25,>=1.21.1 in c:\\users\\emil hansen\\anaconda3\\lib\\site-packages (from requests==2.21.0->pydst==0.1.0.9000) (1.24.1)\n",
      "Requirement already satisfied: six>=1.5 in c:\\users\\emil hansen\\anaconda3\\lib\\site-packages (from python-dateutil>=2.5.0->pandas==0.23.4->pydst==0.1.0.9000) (1.12.0)\n",
      "Building wheels for collected packages: pydst\n",
      "  Running setup.py bdist_wheel for pydst: started\n",
      "  Running setup.py bdist_wheel for pydst: finished with status 'done'\n",
      "  Stored in directory: C:\\Users\\EMILHA~1\\AppData\\Local\\Temp\\pip-ephem-wheel-cache-tcee67tm\\wheels\\d9\\c4\\ff\\6f3f28e04ed27a83701d35fadebf3a7d9b11ba5b47b8d7e77f\n",
      "Successfully built pydst\n"
     ]
    }
   ],
   "source": [
    "!pip install git+https://github.com/elben10/pydst\n",
    "\n",
    "import pydst                          # API from Statistics Denmark (DST)\n",
    "Dst = pydst.Dst(lang='en')            # Specifies language as English\n",
    "import pandas as pd                   # Data structure and analysis package\n",
    "import numpy as np                    # Computing\n",
    "import matplotlib.pyplot as plt       # Plots\n",
    "import ipywidgets as widgets          # Interactive plots"
   ]
  },
  {
   "cell_type": "markdown",
   "metadata": {},
   "source": [
    "## Fetching and adjusting data\n",
    "In this example, we fetch the table named NKN1 from the national accounts of Denmark."
   ]
  },
  {
   "cell_type": "code",
   "execution_count": 2,
   "metadata": {
    "scrolled": true
   },
   "outputs": [
    {
     "data": {
      "text/html": [
       "<div>\n",
       "<style scoped>\n",
       "    .dataframe tbody tr th:only-of-type {\n",
       "        vertical-align: middle;\n",
       "    }\n",
       "\n",
       "    .dataframe tbody tr th {\n",
       "        vertical-align: top;\n",
       "    }\n",
       "\n",
       "    .dataframe thead th {\n",
       "        text-align: right;\n",
       "    }\n",
       "</style>\n",
       "<table border=\"1\" class=\"dataframe\">\n",
       "  <thead>\n",
       "    <tr style=\"text-align: right;\">\n",
       "      <th></th>\n",
       "      <th>TRANSAKT</th>\n",
       "      <th>PRISENHED</th>\n",
       "      <th>SÆSON</th>\n",
       "      <th>TID</th>\n",
       "      <th>INDHOLD</th>\n",
       "    </tr>\n",
       "  </thead>\n",
       "  <tbody>\n",
       "    <tr>\n",
       "      <th>0</th>\n",
       "      <td>B.1*g Gross domestic product</td>\n",
       "      <td>Current prices, (bill. DKK.)</td>\n",
       "      <td>Non-seasonally adjusted</td>\n",
       "      <td>1990Q1</td>\n",
       "      <td>210.2</td>\n",
       "    </tr>\n",
       "  </tbody>\n",
       "</table>\n",
       "</div>"
      ],
      "text/plain": [
       "                       TRANSAKT                     PRISENHED  \\\n",
       "0  B.1*g Gross domestic product  Current prices, (bill. DKK.)   \n",
       "\n",
       "                     SÆSON     TID  INDHOLD  \n",
       "0  Non-seasonally adjusted  1990Q1    210.2  "
      ]
     },
     "execution_count": 2,
     "metadata": {},
     "output_type": "execute_result"
    }
   ],
   "source": [
    "Dst.get_data(table_id = 'NKN1')       # Retrieves NKN1"
   ]
  },
  {
   "cell_type": "markdown",
   "metadata": {},
   "source": [
    "Now, we explore the contents of table NKN1."
   ]
  },
  {
   "cell_type": "code",
   "execution_count": 3,
   "metadata": {},
   "outputs": [
    {
     "data": {
      "text/html": [
       "<div>\n",
       "<style scoped>\n",
       "    .dataframe tbody tr th:only-of-type {\n",
       "        vertical-align: middle;\n",
       "    }\n",
       "\n",
       "    .dataframe tbody tr th {\n",
       "        vertical-align: top;\n",
       "    }\n",
       "\n",
       "    .dataframe thead th {\n",
       "        text-align: right;\n",
       "    }\n",
       "</style>\n",
       "<table border=\"1\" class=\"dataframe\">\n",
       "  <thead>\n",
       "    <tr style=\"text-align: right;\">\n",
       "      <th></th>\n",
       "      <th>elimination</th>\n",
       "      <th>id</th>\n",
       "      <th>text</th>\n",
       "      <th>time</th>\n",
       "      <th>values</th>\n",
       "    </tr>\n",
       "  </thead>\n",
       "  <tbody>\n",
       "    <tr>\n",
       "      <th>0</th>\n",
       "      <td>False</td>\n",
       "      <td>TRANSAKT</td>\n",
       "      <td>transaction</td>\n",
       "      <td>False</td>\n",
       "      <td>[{'id': 'B1GQK', 'text': 'B.1*g Gross domestic...</td>\n",
       "    </tr>\n",
       "    <tr>\n",
       "      <th>1</th>\n",
       "      <td>False</td>\n",
       "      <td>PRISENHED</td>\n",
       "      <td>price unit</td>\n",
       "      <td>False</td>\n",
       "      <td>[{'id': 'V_M', 'text': 'Current prices, (bill....</td>\n",
       "    </tr>\n",
       "    <tr>\n",
       "      <th>2</th>\n",
       "      <td>False</td>\n",
       "      <td>SÆSON</td>\n",
       "      <td>seasonal adjustment</td>\n",
       "      <td>False</td>\n",
       "      <td>[{'id': 'N', 'text': 'Non-seasonally adjusted'...</td>\n",
       "    </tr>\n",
       "    <tr>\n",
       "      <th>3</th>\n",
       "      <td>False</td>\n",
       "      <td>Tid</td>\n",
       "      <td>time</td>\n",
       "      <td>True</td>\n",
       "      <td>[{'id': '1990K1', 'text': '1990Q1'}, {'id': '1...</td>\n",
       "    </tr>\n",
       "  </tbody>\n",
       "</table>\n",
       "</div>"
      ],
      "text/plain": [
       "   elimination         id                 text   time  \\\n",
       "0        False   TRANSAKT          transaction  False   \n",
       "1        False  PRISENHED           price unit  False   \n",
       "2        False      SÆSON  seasonal adjustment  False   \n",
       "3        False        Tid                 time   True   \n",
       "\n",
       "                                              values  \n",
       "0  [{'id': 'B1GQK', 'text': 'B.1*g Gross domestic...  \n",
       "1  [{'id': 'V_M', 'text': 'Current prices, (bill....  \n",
       "2  [{'id': 'N', 'text': 'Non-seasonally adjusted'...  \n",
       "3  [{'id': '1990K1', 'text': '1990Q1'}, {'id': '1...  "
      ]
     },
     "execution_count": 3,
     "metadata": {},
     "output_type": "execute_result"
    }
   ],
   "source": [
    "Dst.get_variables(table_id = 'NKN1')  # Retrieves variables of NKN1"
   ]
  },
  {
   "cell_type": "markdown",
   "metadata": {},
   "source": [
    "Here, we wish to extracting the seasonally adjusted GDP in chained 2010-prices (bill. DKK) for the period 1990Q1 - 2018Q3."
   ]
  },
  {
   "cell_type": "code",
   "execution_count": 4,
   "metadata": {
    "scrolled": true
   },
   "outputs": [
    {
     "data": {
      "text/html": [
       "<div>\n",
       "<style scoped>\n",
       "    .dataframe tbody tr th:only-of-type {\n",
       "        vertical-align: middle;\n",
       "    }\n",
       "\n",
       "    .dataframe tbody tr th {\n",
       "        vertical-align: top;\n",
       "    }\n",
       "\n",
       "    .dataframe thead th {\n",
       "        text-align: right;\n",
       "    }\n",
       "</style>\n",
       "<table border=\"1\" class=\"dataframe\">\n",
       "  <thead>\n",
       "    <tr style=\"text-align: right;\">\n",
       "      <th></th>\n",
       "      <th>TRANSAKT</th>\n",
       "      <th>PRISENHED</th>\n",
       "      <th>SÆSON</th>\n",
       "      <th>TID</th>\n",
       "      <th>INDHOLD</th>\n",
       "    </tr>\n",
       "  </thead>\n",
       "  <tbody>\n",
       "    <tr>\n",
       "      <th>0</th>\n",
       "      <td>B.1*g Gross domestic product</td>\n",
       "      <td>2010-prices, chained values, (bill. DKK.)</td>\n",
       "      <td>Seasonally adjusted</td>\n",
       "      <td>1990Q1</td>\n",
       "      <td>..</td>\n",
       "    </tr>\n",
       "    <tr>\n",
       "      <th>1</th>\n",
       "      <td>B.1*g Gross domestic product</td>\n",
       "      <td>2010-prices, chained values, (bill. DKK.)</td>\n",
       "      <td>Seasonally adjusted</td>\n",
       "      <td>1990Q2</td>\n",
       "      <td>..</td>\n",
       "    </tr>\n",
       "    <tr>\n",
       "      <th>2</th>\n",
       "      <td>B.1*g Gross domestic product</td>\n",
       "      <td>2010-prices, chained values, (bill. DKK.)</td>\n",
       "      <td>Seasonally adjusted</td>\n",
       "      <td>1990Q3</td>\n",
       "      <td>..</td>\n",
       "    </tr>\n",
       "    <tr>\n",
       "      <th>113</th>\n",
       "      <td>B.1*g Gross domestic product</td>\n",
       "      <td>2010-prices, chained values, (bill. DKK.)</td>\n",
       "      <td>Seasonally adjusted</td>\n",
       "      <td>2018Q1</td>\n",
       "      <td>508.1</td>\n",
       "    </tr>\n",
       "    <tr>\n",
       "      <th>114</th>\n",
       "      <td>B.1*g Gross domestic product</td>\n",
       "      <td>2010-prices, chained values, (bill. DKK.)</td>\n",
       "      <td>Seasonally adjusted</td>\n",
       "      <td>2018Q2</td>\n",
       "      <td>511.2</td>\n",
       "    </tr>\n",
       "    <tr>\n",
       "      <th>115</th>\n",
       "      <td>B.1*g Gross domestic product</td>\n",
       "      <td>2010-prices, chained values, (bill. DKK.)</td>\n",
       "      <td>Seasonally adjusted</td>\n",
       "      <td>2018Q3</td>\n",
       "      <td>513.5</td>\n",
       "    </tr>\n",
       "  </tbody>\n",
       "</table>\n",
       "</div>"
      ],
      "text/plain": [
       "                         TRANSAKT                                  PRISENHED  \\\n",
       "0    B.1*g Gross domestic product  2010-prices, chained values, (bill. DKK.)   \n",
       "1    B.1*g Gross domestic product  2010-prices, chained values, (bill. DKK.)   \n",
       "2    B.1*g Gross domestic product  2010-prices, chained values, (bill. DKK.)   \n",
       "113  B.1*g Gross domestic product  2010-prices, chained values, (bill. DKK.)   \n",
       "114  B.1*g Gross domestic product  2010-prices, chained values, (bill. DKK.)   \n",
       "115  B.1*g Gross domestic product  2010-prices, chained values, (bill. DKK.)   \n",
       "\n",
       "                   SÆSON     TID INDHOLD  \n",
       "0    Seasonally adjusted  1990Q1      ..  \n",
       "1    Seasonally adjusted  1990Q2      ..  \n",
       "2    Seasonally adjusted  1990Q3      ..  \n",
       "113  Seasonally adjusted  2018Q1   508.1  \n",
       "114  Seasonally adjusted  2018Q2   511.2  \n",
       "115  Seasonally adjusted  2018Q3   513.5  "
      ]
     },
     "execution_count": 4,
     "metadata": {},
     "output_type": "execute_result"
    }
   ],
   "source": [
    "df = Dst.get_data(table_id = 'NKN1',\n",
    "     variables = {'TRANSAKT':['B1GQK'],\n",
    "     'PRISENHED':['LKV_M'],\n",
    "     'SÆSON':['Y'],'TID':['*']})        # Extracts the desired variables\n",
    "pd.concat([df.head(3), df.tail(3)])     # Shows first three and last three rows  "
   ]
  },
  {
   "cell_type": "markdown",
   "metadata": {},
   "source": [
    "We now remove redundant variables, so only time and GDP remain."
   ]
  },
  {
   "cell_type": "code",
   "execution_count": 5,
   "metadata": {
    "scrolled": true
   },
   "outputs": [
    {
     "data": {
      "text/html": [
       "<div>\n",
       "<style scoped>\n",
       "    .dataframe tbody tr th:only-of-type {\n",
       "        vertical-align: middle;\n",
       "    }\n",
       "\n",
       "    .dataframe tbody tr th {\n",
       "        vertical-align: top;\n",
       "    }\n",
       "\n",
       "    .dataframe thead th {\n",
       "        text-align: right;\n",
       "    }\n",
       "</style>\n",
       "<table border=\"1\" class=\"dataframe\">\n",
       "  <thead>\n",
       "    <tr style=\"text-align: right;\">\n",
       "      <th></th>\n",
       "      <th>TID</th>\n",
       "      <th>INDHOLD</th>\n",
       "    </tr>\n",
       "  </thead>\n",
       "  <tbody>\n",
       "    <tr>\n",
       "      <th>0</th>\n",
       "      <td>1990Q1</td>\n",
       "      <td>..</td>\n",
       "    </tr>\n",
       "    <tr>\n",
       "      <th>1</th>\n",
       "      <td>1990Q2</td>\n",
       "      <td>..</td>\n",
       "    </tr>\n",
       "    <tr>\n",
       "      <th>2</th>\n",
       "      <td>1990Q3</td>\n",
       "      <td>..</td>\n",
       "    </tr>\n",
       "    <tr>\n",
       "      <th>3</th>\n",
       "      <td>1990Q4</td>\n",
       "      <td>..</td>\n",
       "    </tr>\n",
       "    <tr>\n",
       "      <th>4</th>\n",
       "      <td>1991Q1</td>\n",
       "      <td>326.6</td>\n",
       "    </tr>\n",
       "    <tr>\n",
       "      <th>111</th>\n",
       "      <td>2017Q3</td>\n",
       "      <td>500.5</td>\n",
       "    </tr>\n",
       "    <tr>\n",
       "      <th>112</th>\n",
       "      <td>2017Q4</td>\n",
       "      <td>504.6</td>\n",
       "    </tr>\n",
       "    <tr>\n",
       "      <th>113</th>\n",
       "      <td>2018Q1</td>\n",
       "      <td>508.1</td>\n",
       "    </tr>\n",
       "    <tr>\n",
       "      <th>114</th>\n",
       "      <td>2018Q2</td>\n",
       "      <td>511.2</td>\n",
       "    </tr>\n",
       "    <tr>\n",
       "      <th>115</th>\n",
       "      <td>2018Q3</td>\n",
       "      <td>513.5</td>\n",
       "    </tr>\n",
       "  </tbody>\n",
       "</table>\n",
       "</div>"
      ],
      "text/plain": [
       "        TID INDHOLD\n",
       "0    1990Q1      ..\n",
       "1    1990Q2      ..\n",
       "2    1990Q3      ..\n",
       "3    1990Q4      ..\n",
       "4    1991Q1   326.6\n",
       "111  2017Q3   500.5\n",
       "112  2017Q4   504.6\n",
       "113  2018Q1   508.1\n",
       "114  2018Q2   511.2\n",
       "115  2018Q3   513.5"
      ]
     },
     "execution_count": 5,
     "metadata": {},
     "output_type": "execute_result"
    }
   ],
   "source": [
    "df1 = df.drop('TRANSAKT',1).drop('PRISENHED',1).drop('SÆSON',1) # Removes TRANSAKT, PRISENHED and SÆSON\n",
    "pd.concat([df1.head(5), df1.tail(5)])                           # Shows first five and last five rows"
   ]
  },
  {
   "cell_type": "markdown",
   "metadata": {},
   "source": [
    "We then extract time and GDP as arrays. We also remove empty cells in GDP and convert this variable to the type of float."
   ]
  },
  {
   "cell_type": "code",
   "execution_count": 6,
   "metadata": {},
   "outputs": [
    {
     "data": {
      "text/plain": [
       "0      326.6\n",
       "1      325.4\n",
       "2      329.5\n",
       "109    508.1\n",
       "110    511.2\n",
       "111    513.5\n",
       "Name: INDHOLD, dtype: float64"
      ]
     },
     "execution_count": 6,
     "metadata": {},
     "output_type": "execute_result"
    }
   ],
   "source": [
    "time = df1['TID']                       # Extracts time\n",
    "gdp  = df1['INDHOLD']                   # Extratcs GDP\n",
    "\n",
    "gdp.replace('..',np.nan, inplace=True)\n",
    "gdp.dropna(inplace=True)                # Removes empty cells\n",
    "gdp = gdp.iloc[:].astype(float)         # Converts to float\n",
    "\n",
    "gdp = gdp.reset_index(drop=True)        # Resets index\n",
    "\n",
    "pd.concat([gdp.head(3), gdp.tail(3)])   # Shows first three and last three rows"
   ]
  },
  {
   "cell_type": "markdown",
   "metadata": {},
   "source": [
    "Above, we removed four empty cells in the GDP variable. In this case, these were the first four cells. Consequently, we now remove the first four time units in the variable time, so our data set becomes a perfectly balanced time series."
   ]
  },
  {
   "cell_type": "code",
   "execution_count": 7,
   "metadata": {},
   "outputs": [
    {
     "data": {
      "text/plain": [
       "0      1991Q1\n",
       "1      1991Q2\n",
       "2      1991Q3\n",
       "109    2018Q1\n",
       "110    2018Q2\n",
       "111    2018Q3\n",
       "Name: TID, dtype: object"
      ]
     },
     "execution_count": 7,
     "metadata": {},
     "output_type": "execute_result"
    }
   ],
   "source": [
    "t = time[4:]                        # Removes first four time units\n",
    "t = t.reset_index(drop=True)        # Resets index\n",
    "pd.concat([t.head(3), t.tail(3)])   # Shows first three and last three rows"
   ]
  },
  {
   "cell_type": "markdown",
   "metadata": {},
   "source": [
    "We now have exactly 111 + 1 rows for each of the two variables, GDP and t."
   ]
  },
  {
   "cell_type": "markdown",
   "metadata": {},
   "source": [
    "## Data description\n",
    "Before we plot the data, we first take a little look at it."
   ]
  },
  {
   "cell_type": "code",
   "execution_count": 13,
   "metadata": {},
   "outputs": [
    {
     "data": {
      "text/html": [
       "<div>\n",
       "<style scoped>\n",
       "    .dataframe tbody tr th:only-of-type {\n",
       "        vertical-align: middle;\n",
       "    }\n",
       "\n",
       "    .dataframe tbody tr th {\n",
       "        vertical-align: top;\n",
       "    }\n",
       "\n",
       "    .dataframe thead th {\n",
       "        text-align: right;\n",
       "    }\n",
       "</style>\n",
       "<table border=\"1\" class=\"dataframe\">\n",
       "  <thead>\n",
       "    <tr style=\"text-align: right;\">\n",
       "      <th></th>\n",
       "      <th>INDHOLD</th>\n",
       "    </tr>\n",
       "  </thead>\n",
       "  <tbody>\n",
       "    <tr>\n",
       "      <th>count</th>\n",
       "      <td>112.000000</td>\n",
       "    </tr>\n",
       "    <tr>\n",
       "      <th>mean</th>\n",
       "      <td>428.067857</td>\n",
       "    </tr>\n",
       "    <tr>\n",
       "      <th>std</th>\n",
       "      <td>52.958883</td>\n",
       "    </tr>\n",
       "    <tr>\n",
       "      <th>min</th>\n",
       "      <td>325.200000</td>\n",
       "    </tr>\n",
       "    <tr>\n",
       "      <th>25%</th>\n",
       "      <td>387.575000</td>\n",
       "    </tr>\n",
       "    <tr>\n",
       "      <th>50%</th>\n",
       "      <td>441.150000</td>\n",
       "    </tr>\n",
       "    <tr>\n",
       "      <th>75%</th>\n",
       "      <td>466.600000</td>\n",
       "    </tr>\n",
       "    <tr>\n",
       "      <th>max</th>\n",
       "      <td>517.800000</td>\n",
       "    </tr>\n",
       "  </tbody>\n",
       "</table>\n",
       "</div>"
      ],
      "text/plain": [
       "          INDHOLD\n",
       "count  112.000000\n",
       "mean   428.067857\n",
       "std     52.958883\n",
       "min    325.200000\n",
       "25%    387.575000\n",
       "50%    441.150000\n",
       "75%    466.600000\n",
       "max    517.800000"
      ]
     },
     "execution_count": 13,
     "metadata": {},
     "output_type": "execute_result"
    }
   ],
   "source": [
    "pd.DataFrame(gdp.describe())"
   ]
  },
  {
   "cell_type": "markdown",
   "metadata": {},
   "source": [
    "So when GDP was at its lowest, it was 325.2 bill. DKK, while its highest value was 517.8 bill. DKK. Furthermore, the mean GDP was 428 bill. DKK in the considered time period of almost 29 years.\n",
    "\n",
    "Next, we calculate the growth rates of the Danish GDP. Here, we mark positive rates with green and negative rates with red."
   ]
  },
  {
   "cell_type": "code",
   "execution_count": 9,
   "metadata": {},
   "outputs": [
    {
     "data": {
      "image/png": "[encoded data removed]",
      "text/plain": [
       "<Figure size 1008x504 with 1 Axes>"
      ]
     },
     "metadata": {
      "needs_background": "light"
     },
     "output_type": "display_data"
    }
   ],
   "source": [
    "gr = (np.exp(np.diff(np.log(gdp))) - 1)*100           # Calculates GDP growth rate\n",
    "\n",
    "plt.figure(figsize=(14,7))\n",
    "plt.xlabel('Year and quarter', size=18)               # Labels the t variable\n",
    "plt.ylabel('Growth rate', size=18)                    # Labels the gr variable\n",
    "plt.bar(t[1:], gr, label='Quarterly growth rate')     # Plots gr\n",
    "plt.title('Quarterly growth rate of GDP', size=25)    # Names the title of the plot\n",
    "plt.xticks(t[0:], rotation='vertical')                # Makes the time units appear vertically on the x axis\n",
    "plt.locator_params(axis='x', nbins=len(time[0:])/2)   # Shows every second time unit on the x axis"
   ]
  },
  {
   "cell_type": "markdown",
   "metadata": {},
   "source": [
    "## Interactive plot\n",
    "Below, we set-up the interactive plot, where X equals the amount of (moving) averaged quarters. We will plot this along with the raw data."
   ]
  },
  {
   "cell_type": "code",
   "execution_count": 14,
   "metadata": {
    "scrolled": true
   },
   "outputs": [
    {
     "data": {
      "application/vnd.jupyter.widget-view+json": {
       "model_id": "285906d776d54036ba83829f3eaac6bb",
       "version_major": 2,
       "version_minor": 0
      },
      "text/plain": [
       "interactive(children=(IntSlider(value=6, description='X', max=12), Output()), _dom_classes=('widget-interact',…"
      ]
     },
     "metadata": {},
     "output_type": "display_data"
    },
    {
     "data": {
      "text/plain": [
       "<function __main__.MovAvg(X)>"
      ]
     },
     "execution_count": 14,
     "metadata": {},
     "output_type": "execute_result"
    }
   ],
   "source": [
    "def MovAvg(X):\n",
    "\n",
    "    plt.figure(figsize=(14,7))                                    # Adjusts the figure size\n",
    "    plt.locator_params(which='x', tight=True, nbins=10)           # Initializes the slider\n",
    "    plt.xlabel('Year and quarter', size=18)                       # Labels the t variable\n",
    "    plt.ylabel('GDP', size=18)                                    # Labels the gdp variable\n",
    "    plt.plot(t[0:],gdp.rolling(window=X, center=True).mean(),\n",
    "                        label='GDP, moving average (X periods)')  # Plots and labels the mov. avg. series\n",
    "    plt.plot(t[0:], gdp, label='GDP, observed')                   # Plots and labels the gdp series\n",
    "    plt.title('GDP - Observed and Moving Average', size=25)       # Names the title of the plot\n",
    "    plt.legend(loc='upper left')                                  # Places the legend\n",
    "    plt.xticks(t[0:], rotation='vertical')                        # Makes the time units appear vertically on the x axis\n",
    "    plt.locator_params(axis='x', nbins=len(time[0:])/2)           # Shows every second time unit on the x axis\n",
    "\n",
    "widgets.interact(MovAvg, \n",
    "        X=widgets.IntSlider(min=0,max=12,step=1,value=6))         # Creates the slider"
   ]
  },
  {
   "cell_type": "markdown",
   "metadata": {},
   "source": [
    "Once one choose the desired amount of time units to average over, one can retrieve a table with all the averaged values below. The table can then be copied to another program, e.g. Excel, for further data processing."
   ]
  },
  {
   "cell_type": "code",
   "execution_count": 11,
   "metadata": {},
   "outputs": [
    {
     "data": {
      "application/vnd.jupyter.widget-view+json": {
       "model_id": "4d6a1c7bbb4948f499b2f71cd28c2588",
       "version_major": 2,
       "version_minor": 0
      },
      "text/plain": [
       "interactive(children=(IntSlider(value=6, description='X', max=12), Output()), _dom_classes=('widget-interact',…"
      ]
     },
     "metadata": {},
     "output_type": "display_data"
    },
    {
     "data": {
      "text/plain": [
       "<function __main__.Table(X)>"
      ]
     },
     "execution_count": 11,
     "metadata": {},
     "output_type": "execute_result"
    }
   ],
   "source": [
    "def Table(X):                                                   # Defines function\n",
    "        return pd.DataFrame(gdp.rolling(X, center=True).mean()) # Returns moving average of GDP\n",
    "\n",
    "widgets.interact(Table,\n",
    "        X=widgets.IntSlider(min=0,max=12,step=1,value=6))       # Creates and initialize a slider, which calls Table"
   ]
  }
 ],
 "metadata": {
  "kernelspec": {
   "display_name": "Python 3",
   "language": "python",
   "name": "python3"
  },
  "language_info": {
   "codemirror_mode": {
    "name": "ipython",
    "version": 3
   },
   "file_extension": ".py",
   "mimetype": "text/x-python",
   "name": "python",
   "nbconvert_exporter": "python",
   "pygments_lexer": "ipython3",
   "version": "3.7.1"
  }
 },
 "nbformat": 4,
 "nbformat_minor": 2
}
